{
 "cells": [
  {
   "cell_type": "code",
   "execution_count": 1,
   "metadata": {},
   "outputs": [],
   "source": [
    "#import pystan\n",
    "#model_code = 'parameters {real y;} model {y ~ normal(0,1);}'\n",
    "#model = pystan.StanModel(model_code=model_code)  # this will take a minute\n",
    "#y = model.sampling(n_jobs=1).extract()['y']\n",
    "#y.mean()  # should be close to 0"
   ]
  },
  {
   "cell_type": "code",
   "execution_count": 1,
   "metadata": {},
   "outputs": [],
   "source": [
    " %matplotlib inline\n",
    "import matplotlib.pyplot as plt\n",
    "import numpy as np\n",
    "import pandas as pd \n",
    "import plotly.graph_objs as go\n",
    "import seaborn as sns\n",
    "from sklearn import metrics\n",
    "import pystan"
   ]
  },
  {
   "cell_type": "code",
   "execution_count": 2,
   "metadata": {},
   "outputs": [],
   "source": [
    "#pip install fbprophet"
   ]
  },
  {
   "cell_type": "code",
   "execution_count": 3,
   "metadata": {},
   "outputs": [],
   "source": [
    "#prophet\n",
    "from fbprophet import Prophet"
   ]
  },
  {
   "cell_type": "code",
   "execution_count": 4,
   "metadata": {
    "scrolled": true
   },
   "outputs": [
    {
     "data": {
      "text/html": [
       "<div>\n",
       "<style scoped>\n",
       "    .dataframe tbody tr th:only-of-type {\n",
       "        vertical-align: middle;\n",
       "    }\n",
       "\n",
       "    .dataframe tbody tr th {\n",
       "        vertical-align: top;\n",
       "    }\n",
       "\n",
       "    .dataframe thead th {\n",
       "        text-align: right;\n",
       "    }\n",
       "</style>\n",
       "<table border=\"1\" class=\"dataframe\">\n",
       "  <thead>\n",
       "    <tr style=\"text-align: right;\">\n",
       "      <th></th>\n",
       "      <th>Column1</th>\n",
       "      <th>Date</th>\n",
       "      <th>AveragePrice</th>\n",
       "      <th>Total Volume</th>\n",
       "      <th>4046</th>\n",
       "      <th>4225</th>\n",
       "      <th>4770</th>\n",
       "      <th>Total Bags</th>\n",
       "      <th>Small Bags</th>\n",
       "      <th>Large Bags</th>\n",
       "      <th>XLarge Bags</th>\n",
       "      <th>type</th>\n",
       "      <th>year</th>\n",
       "      <th>region</th>\n",
       "    </tr>\n",
       "  </thead>\n",
       "  <tbody>\n",
       "    <tr>\n",
       "      <th>0</th>\n",
       "      <td>51</td>\n",
       "      <td>2015-01-04</td>\n",
       "      <td>1.22</td>\n",
       "      <td>40873.28</td>\n",
       "      <td>2819.50</td>\n",
       "      <td>28287.42</td>\n",
       "      <td>49.90</td>\n",
       "      <td>9716.46</td>\n",
       "      <td>9186.93</td>\n",
       "      <td>529.53</td>\n",
       "      <td>0.0</td>\n",
       "      <td>conventional</td>\n",
       "      <td>2015</td>\n",
       "      <td>Albany</td>\n",
       "    </tr>\n",
       "    <tr>\n",
       "      <th>1</th>\n",
       "      <td>51</td>\n",
       "      <td>2015-01-04</td>\n",
       "      <td>1.00</td>\n",
       "      <td>435021.49</td>\n",
       "      <td>364302.39</td>\n",
       "      <td>23821.16</td>\n",
       "      <td>82.15</td>\n",
       "      <td>46815.79</td>\n",
       "      <td>16707.15</td>\n",
       "      <td>30108.64</td>\n",
       "      <td>0.0</td>\n",
       "      <td>conventional</td>\n",
       "      <td>2015</td>\n",
       "      <td>Atlanta</td>\n",
       "    </tr>\n",
       "    <tr>\n",
       "      <th>2</th>\n",
       "      <td>51</td>\n",
       "      <td>2015-01-04</td>\n",
       "      <td>1.08</td>\n",
       "      <td>788025.06</td>\n",
       "      <td>53987.31</td>\n",
       "      <td>552906.04</td>\n",
       "      <td>39995.03</td>\n",
       "      <td>141136.68</td>\n",
       "      <td>137146.07</td>\n",
       "      <td>3990.61</td>\n",
       "      <td>0.0</td>\n",
       "      <td>conventional</td>\n",
       "      <td>2015</td>\n",
       "      <td>BaltimoreWashington</td>\n",
       "    </tr>\n",
       "    <tr>\n",
       "      <th>3</th>\n",
       "      <td>51</td>\n",
       "      <td>2015-01-04</td>\n",
       "      <td>1.01</td>\n",
       "      <td>80034.32</td>\n",
       "      <td>44562.12</td>\n",
       "      <td>24964.23</td>\n",
       "      <td>2752.35</td>\n",
       "      <td>7755.62</td>\n",
       "      <td>6064.30</td>\n",
       "      <td>1691.32</td>\n",
       "      <td>0.0</td>\n",
       "      <td>conventional</td>\n",
       "      <td>2015</td>\n",
       "      <td>Boise</td>\n",
       "    </tr>\n",
       "    <tr>\n",
       "      <th>4</th>\n",
       "      <td>51</td>\n",
       "      <td>2015-01-04</td>\n",
       "      <td>1.02</td>\n",
       "      <td>491738.00</td>\n",
       "      <td>7193.87</td>\n",
       "      <td>396752.18</td>\n",
       "      <td>128.82</td>\n",
       "      <td>87663.13</td>\n",
       "      <td>87406.84</td>\n",
       "      <td>256.29</td>\n",
       "      <td>0.0</td>\n",
       "      <td>conventional</td>\n",
       "      <td>2015</td>\n",
       "      <td>Boston</td>\n",
       "    </tr>\n",
       "  </tbody>\n",
       "</table>\n",
       "</div>"
      ],
      "text/plain": [
       "   Column1        Date  AveragePrice  Total Volume       4046       4225  \\\n",
       "0       51  2015-01-04          1.22      40873.28    2819.50   28287.42   \n",
       "1       51  2015-01-04          1.00     435021.49  364302.39   23821.16   \n",
       "2       51  2015-01-04          1.08     788025.06   53987.31  552906.04   \n",
       "3       51  2015-01-04          1.01      80034.32   44562.12   24964.23   \n",
       "4       51  2015-01-04          1.02     491738.00    7193.87  396752.18   \n",
       "\n",
       "       4770  Total Bags  Small Bags  Large Bags  XLarge Bags          type  \\\n",
       "0     49.90     9716.46     9186.93      529.53          0.0  conventional   \n",
       "1     82.15    46815.79    16707.15    30108.64          0.0  conventional   \n",
       "2  39995.03   141136.68   137146.07     3990.61          0.0  conventional   \n",
       "3   2752.35     7755.62     6064.30     1691.32          0.0  conventional   \n",
       "4    128.82    87663.13    87406.84      256.29          0.0  conventional   \n",
       "\n",
       "   year               region  \n",
       "0  2015               Albany  \n",
       "1  2015              Atlanta  \n",
       "2  2015  BaltimoreWashington  \n",
       "3  2015                Boise  \n",
       "4  2015               Boston  "
      ]
     },
     "execution_count": 4,
     "metadata": {},
     "output_type": "execute_result"
    }
   ],
   "source": [
    "data = pd.read_csv('../data/avocado.csv')\n",
    "data.head()"
   ]
  },
  {
   "cell_type": "markdown",
   "metadata": {},
   "source": [
    "# Data Cleaning"
   ]
  },
  {
   "cell_type": "code",
   "execution_count": 5,
   "metadata": {},
   "outputs": [
    {
     "data": {
      "text/plain": [
       "Index(['Column1', 'Date', 'AveragePrice', 'Total Volume', '4046', '4225',\n",
       "       '4770', 'Total Bags', 'Small Bags', 'Large Bags', 'XLarge Bags', 'type',\n",
       "       'year', 'region'],\n",
       "      dtype='object')"
      ]
     },
     "execution_count": 5,
     "metadata": {},
     "output_type": "execute_result"
    }
   ],
   "source": [
    "features = data.columns\n",
    "features"
   ]
  },
  {
   "cell_type": "code",
   "execution_count": 6,
   "metadata": {},
   "outputs": [
    {
     "data": {
      "text/plain": [
       "Column1         0\n",
       "Date            0\n",
       "AveragePrice    0\n",
       "Total Volume    0\n",
       "4046            0\n",
       "4225            0\n",
       "4770            0\n",
       "Total Bags      0\n",
       "Small Bags      0\n",
       "Large Bags      0\n",
       "XLarge Bags     0\n",
       "type            0\n",
       "year            0\n",
       "region          0\n",
       "dtype: int64"
      ]
     },
     "execution_count": 6,
     "metadata": {},
     "output_type": "execute_result"
    }
   ],
   "source": [
    "data.isnull().sum()"
   ]
  },
  {
   "cell_type": "code",
   "execution_count": 7,
   "metadata": {},
   "outputs": [
    {
     "data": {
      "text/plain": [
       "Column1           int64\n",
       "Date             object\n",
       "AveragePrice    float64\n",
       "Total Volume    float64\n",
       "4046            float64\n",
       "4225            float64\n",
       "4770            float64\n",
       "Total Bags      float64\n",
       "Small Bags      float64\n",
       "Large Bags      float64\n",
       "XLarge Bags     float64\n",
       "type             object\n",
       "year              int64\n",
       "region           object\n",
       "dtype: object"
      ]
     },
     "execution_count": 7,
     "metadata": {},
     "output_type": "execute_result"
    }
   ],
   "source": [
    "data.dtypes"
   ]
  },
  {
   "cell_type": "code",
   "execution_count": 8,
   "metadata": {
    "scrolled": true
   },
   "outputs": [
    {
     "data": {
      "text/html": [
       "<div>\n",
       "<style scoped>\n",
       "    .dataframe tbody tr th:only-of-type {\n",
       "        vertical-align: middle;\n",
       "    }\n",
       "\n",
       "    .dataframe tbody tr th {\n",
       "        vertical-align: top;\n",
       "    }\n",
       "\n",
       "    .dataframe thead th {\n",
       "        text-align: right;\n",
       "    }\n",
       "</style>\n",
       "<table border=\"1\" class=\"dataframe\">\n",
       "  <thead>\n",
       "    <tr style=\"text-align: right;\">\n",
       "      <th></th>\n",
       "      <th>Column1</th>\n",
       "      <th>Date</th>\n",
       "      <th>AveragePrice</th>\n",
       "      <th>Total Volume</th>\n",
       "      <th>Small Avocados</th>\n",
       "      <th>Medium Avocados</th>\n",
       "      <th>Large Avocados</th>\n",
       "      <th>Total Bags</th>\n",
       "      <th>Small Bags</th>\n",
       "      <th>Large Bags</th>\n",
       "      <th>XLarge Bags</th>\n",
       "      <th>type</th>\n",
       "      <th>year</th>\n",
       "      <th>region</th>\n",
       "    </tr>\n",
       "  </thead>\n",
       "  <tbody>\n",
       "    <tr>\n",
       "      <th>0</th>\n",
       "      <td>51</td>\n",
       "      <td>2015-01-04</td>\n",
       "      <td>1.22</td>\n",
       "      <td>40873.28</td>\n",
       "      <td>2819.50</td>\n",
       "      <td>28287.42</td>\n",
       "      <td>49.90</td>\n",
       "      <td>9716.46</td>\n",
       "      <td>9186.93</td>\n",
       "      <td>529.53</td>\n",
       "      <td>0.0</td>\n",
       "      <td>conventional</td>\n",
       "      <td>2015</td>\n",
       "      <td>Albany</td>\n",
       "    </tr>\n",
       "    <tr>\n",
       "      <th>1</th>\n",
       "      <td>51</td>\n",
       "      <td>2015-01-04</td>\n",
       "      <td>1.00</td>\n",
       "      <td>435021.49</td>\n",
       "      <td>364302.39</td>\n",
       "      <td>23821.16</td>\n",
       "      <td>82.15</td>\n",
       "      <td>46815.79</td>\n",
       "      <td>16707.15</td>\n",
       "      <td>30108.64</td>\n",
       "      <td>0.0</td>\n",
       "      <td>conventional</td>\n",
       "      <td>2015</td>\n",
       "      <td>Atlanta</td>\n",
       "    </tr>\n",
       "    <tr>\n",
       "      <th>2</th>\n",
       "      <td>51</td>\n",
       "      <td>2015-01-04</td>\n",
       "      <td>1.08</td>\n",
       "      <td>788025.06</td>\n",
       "      <td>53987.31</td>\n",
       "      <td>552906.04</td>\n",
       "      <td>39995.03</td>\n",
       "      <td>141136.68</td>\n",
       "      <td>137146.07</td>\n",
       "      <td>3990.61</td>\n",
       "      <td>0.0</td>\n",
       "      <td>conventional</td>\n",
       "      <td>2015</td>\n",
       "      <td>BaltimoreWashington</td>\n",
       "    </tr>\n",
       "    <tr>\n",
       "      <th>3</th>\n",
       "      <td>51</td>\n",
       "      <td>2015-01-04</td>\n",
       "      <td>1.01</td>\n",
       "      <td>80034.32</td>\n",
       "      <td>44562.12</td>\n",
       "      <td>24964.23</td>\n",
       "      <td>2752.35</td>\n",
       "      <td>7755.62</td>\n",
       "      <td>6064.30</td>\n",
       "      <td>1691.32</td>\n",
       "      <td>0.0</td>\n",
       "      <td>conventional</td>\n",
       "      <td>2015</td>\n",
       "      <td>Boise</td>\n",
       "    </tr>\n",
       "    <tr>\n",
       "      <th>4</th>\n",
       "      <td>51</td>\n",
       "      <td>2015-01-04</td>\n",
       "      <td>1.02</td>\n",
       "      <td>491738.00</td>\n",
       "      <td>7193.87</td>\n",
       "      <td>396752.18</td>\n",
       "      <td>128.82</td>\n",
       "      <td>87663.13</td>\n",
       "      <td>87406.84</td>\n",
       "      <td>256.29</td>\n",
       "      <td>0.0</td>\n",
       "      <td>conventional</td>\n",
       "      <td>2015</td>\n",
       "      <td>Boston</td>\n",
       "    </tr>\n",
       "  </tbody>\n",
       "</table>\n",
       "</div>"
      ],
      "text/plain": [
       "   Column1        Date  AveragePrice  Total Volume  Small Avocados  \\\n",
       "0       51  2015-01-04          1.22      40873.28         2819.50   \n",
       "1       51  2015-01-04          1.00     435021.49       364302.39   \n",
       "2       51  2015-01-04          1.08     788025.06        53987.31   \n",
       "3       51  2015-01-04          1.01      80034.32        44562.12   \n",
       "4       51  2015-01-04          1.02     491738.00         7193.87   \n",
       "\n",
       "   Medium Avocados  Large Avocados  Total Bags  Small Bags  Large Bags  \\\n",
       "0         28287.42           49.90     9716.46     9186.93      529.53   \n",
       "1         23821.16           82.15    46815.79    16707.15    30108.64   \n",
       "2        552906.04        39995.03   141136.68   137146.07     3990.61   \n",
       "3         24964.23         2752.35     7755.62     6064.30     1691.32   \n",
       "4        396752.18          128.82    87663.13    87406.84      256.29   \n",
       "\n",
       "   XLarge Bags          type  year               region  \n",
       "0          0.0  conventional  2015               Albany  \n",
       "1          0.0  conventional  2015              Atlanta  \n",
       "2          0.0  conventional  2015  BaltimoreWashington  \n",
       "3          0.0  conventional  2015                Boise  \n",
       "4          0.0  conventional  2015               Boston  "
      ]
     },
     "execution_count": 8,
     "metadata": {},
     "output_type": "execute_result"
    }
   ],
   "source": [
    "data = data.rename(columns={\"4046\":\"Small Avocados\",\"4225\":\"Medium Avocados\",\"4770\":\"Large Avocados\"})\n",
    "data.head()"
   ]
  },
  {
   "cell_type": "code",
   "execution_count": 30,
   "metadata": {
    "scrolled": true
   },
   "outputs": [
    {
     "data": {
      "text/html": [
       "<div>\n",
       "<style scoped>\n",
       "    .dataframe tbody tr th:only-of-type {\n",
       "        vertical-align: middle;\n",
       "    }\n",
       "\n",
       "    .dataframe tbody tr th {\n",
       "        vertical-align: top;\n",
       "    }\n",
       "\n",
       "    .dataframe thead th {\n",
       "        text-align: right;\n",
       "    }\n",
       "</style>\n",
       "<table border=\"1\" class=\"dataframe\">\n",
       "  <thead>\n",
       "    <tr style=\"text-align: right;\">\n",
       "      <th></th>\n",
       "      <th>Column1</th>\n",
       "      <th>Date</th>\n",
       "      <th>AveragePrice</th>\n",
       "      <th>Total Volume</th>\n",
       "      <th>Small Avocados</th>\n",
       "      <th>Medium Avocados</th>\n",
       "      <th>Large Avocados</th>\n",
       "      <th>Total Bags</th>\n",
       "      <th>Small Bags</th>\n",
       "      <th>Large Bags</th>\n",
       "      <th>XLarge Bags</th>\n",
       "      <th>type</th>\n",
       "      <th>year</th>\n",
       "      <th>region</th>\n",
       "      <th>month</th>\n",
       "      <th>day</th>\n",
       "    </tr>\n",
       "  </thead>\n",
       "  <tbody>\n",
       "    <tr>\n",
       "      <th>0</th>\n",
       "      <td>51</td>\n",
       "      <td>2015-01-04</td>\n",
       "      <td>1.22</td>\n",
       "      <td>40873.28</td>\n",
       "      <td>2819.50</td>\n",
       "      <td>28287.42</td>\n",
       "      <td>49.90</td>\n",
       "      <td>9716.46</td>\n",
       "      <td>9186.93</td>\n",
       "      <td>529.53</td>\n",
       "      <td>0.0</td>\n",
       "      <td>conventional</td>\n",
       "      <td>2015</td>\n",
       "      <td>Albany</td>\n",
       "      <td>1</td>\n",
       "      <td>4</td>\n",
       "    </tr>\n",
       "    <tr>\n",
       "      <th>1</th>\n",
       "      <td>51</td>\n",
       "      <td>2015-01-04</td>\n",
       "      <td>1.00</td>\n",
       "      <td>435021.49</td>\n",
       "      <td>364302.39</td>\n",
       "      <td>23821.16</td>\n",
       "      <td>82.15</td>\n",
       "      <td>46815.79</td>\n",
       "      <td>16707.15</td>\n",
       "      <td>30108.64</td>\n",
       "      <td>0.0</td>\n",
       "      <td>conventional</td>\n",
       "      <td>2015</td>\n",
       "      <td>Atlanta</td>\n",
       "      <td>1</td>\n",
       "      <td>4</td>\n",
       "    </tr>\n",
       "    <tr>\n",
       "      <th>2</th>\n",
       "      <td>51</td>\n",
       "      <td>2015-01-04</td>\n",
       "      <td>1.08</td>\n",
       "      <td>788025.06</td>\n",
       "      <td>53987.31</td>\n",
       "      <td>552906.04</td>\n",
       "      <td>39995.03</td>\n",
       "      <td>141136.68</td>\n",
       "      <td>137146.07</td>\n",
       "      <td>3990.61</td>\n",
       "      <td>0.0</td>\n",
       "      <td>conventional</td>\n",
       "      <td>2015</td>\n",
       "      <td>BaltimoreWashington</td>\n",
       "      <td>1</td>\n",
       "      <td>4</td>\n",
       "    </tr>\n",
       "    <tr>\n",
       "      <th>3</th>\n",
       "      <td>51</td>\n",
       "      <td>2015-01-04</td>\n",
       "      <td>1.01</td>\n",
       "      <td>80034.32</td>\n",
       "      <td>44562.12</td>\n",
       "      <td>24964.23</td>\n",
       "      <td>2752.35</td>\n",
       "      <td>7755.62</td>\n",
       "      <td>6064.30</td>\n",
       "      <td>1691.32</td>\n",
       "      <td>0.0</td>\n",
       "      <td>conventional</td>\n",
       "      <td>2015</td>\n",
       "      <td>Boise</td>\n",
       "      <td>1</td>\n",
       "      <td>4</td>\n",
       "    </tr>\n",
       "    <tr>\n",
       "      <th>4</th>\n",
       "      <td>51</td>\n",
       "      <td>2015-01-04</td>\n",
       "      <td>1.02</td>\n",
       "      <td>491738.00</td>\n",
       "      <td>7193.87</td>\n",
       "      <td>396752.18</td>\n",
       "      <td>128.82</td>\n",
       "      <td>87663.13</td>\n",
       "      <td>87406.84</td>\n",
       "      <td>256.29</td>\n",
       "      <td>0.0</td>\n",
       "      <td>conventional</td>\n",
       "      <td>2015</td>\n",
       "      <td>Boston</td>\n",
       "      <td>1</td>\n",
       "      <td>4</td>\n",
       "    </tr>\n",
       "  </tbody>\n",
       "</table>\n",
       "</div>"
      ],
      "text/plain": [
       "   Column1        Date  AveragePrice  Total Volume  Small Avocados  \\\n",
       "0       51  2015-01-04          1.22      40873.28         2819.50   \n",
       "1       51  2015-01-04          1.00     435021.49       364302.39   \n",
       "2       51  2015-01-04          1.08     788025.06        53987.31   \n",
       "3       51  2015-01-04          1.01      80034.32        44562.12   \n",
       "4       51  2015-01-04          1.02     491738.00         7193.87   \n",
       "\n",
       "   Medium Avocados  Large Avocados  Total Bags  Small Bags  Large Bags  \\\n",
       "0         28287.42           49.90     9716.46     9186.93      529.53   \n",
       "1         23821.16           82.15    46815.79    16707.15    30108.64   \n",
       "2        552906.04        39995.03   141136.68   137146.07     3990.61   \n",
       "3         24964.23         2752.35     7755.62     6064.30     1691.32   \n",
       "4        396752.18          128.82    87663.13    87406.84      256.29   \n",
       "\n",
       "   XLarge Bags          type  year               region  month  day  \n",
       "0          0.0  conventional  2015               Albany      1    4  \n",
       "1          0.0  conventional  2015              Atlanta      1    4  \n",
       "2          0.0  conventional  2015  BaltimoreWashington      1    4  \n",
       "3          0.0  conventional  2015                Boise      1    4  \n",
       "4          0.0  conventional  2015               Boston      1    4  "
      ]
     },
     "execution_count": 30,
     "metadata": {},
     "output_type": "execute_result"
    }
   ],
   "source": [
    "# Datetime Code for Time Separation, duplicate df\n",
    "\n",
    "data_sep = data.copy()\n",
    "data_sep['year'] = pd.DatetimeIndex(data_sep['Date']).year\n",
    "data_sep['month'] = pd.DatetimeIndex(data_sep['Date']).month\n",
    "data_sep['day'] = pd.DatetimeIndex(data_sep['Date']).day\n",
    "data_sep.head()"
   ]
  },
  {
   "cell_type": "code",
   "execution_count": 31,
   "metadata": {
    "scrolled": true
   },
   "outputs": [
    {
     "data": {
      "text/html": [
       "<div>\n",
       "<style scoped>\n",
       "    .dataframe tbody tr th:only-of-type {\n",
       "        vertical-align: middle;\n",
       "    }\n",
       "\n",
       "    .dataframe tbody tr th {\n",
       "        vertical-align: top;\n",
       "    }\n",
       "\n",
       "    .dataframe thead th {\n",
       "        text-align: right;\n",
       "    }\n",
       "</style>\n",
       "<table border=\"1\" class=\"dataframe\">\n",
       "  <thead>\n",
       "    <tr style=\"text-align: right;\">\n",
       "      <th></th>\n",
       "      <th>Column1</th>\n",
       "      <th>Date</th>\n",
       "      <th>AveragePrice</th>\n",
       "      <th>Total Volume</th>\n",
       "      <th>Small Avocados</th>\n",
       "      <th>Medium Avocados</th>\n",
       "      <th>Large Avocados</th>\n",
       "      <th>Total Bags</th>\n",
       "      <th>Small Bags</th>\n",
       "      <th>Large Bags</th>\n",
       "      <th>XLarge Bags</th>\n",
       "      <th>type</th>\n",
       "      <th>year</th>\n",
       "      <th>region</th>\n",
       "    </tr>\n",
       "  </thead>\n",
       "  <tbody>\n",
       "    <tr>\n",
       "      <th>0</th>\n",
       "      <td>51</td>\n",
       "      <td>2015-01-04</td>\n",
       "      <td>1.22</td>\n",
       "      <td>40873.28</td>\n",
       "      <td>2819.50</td>\n",
       "      <td>28287.42</td>\n",
       "      <td>49.90</td>\n",
       "      <td>9716.46</td>\n",
       "      <td>9186.93</td>\n",
       "      <td>529.53</td>\n",
       "      <td>0.0</td>\n",
       "      <td>conventional</td>\n",
       "      <td>2015</td>\n",
       "      <td>Albany</td>\n",
       "    </tr>\n",
       "    <tr>\n",
       "      <th>1</th>\n",
       "      <td>51</td>\n",
       "      <td>2015-01-04</td>\n",
       "      <td>1.00</td>\n",
       "      <td>435021.49</td>\n",
       "      <td>364302.39</td>\n",
       "      <td>23821.16</td>\n",
       "      <td>82.15</td>\n",
       "      <td>46815.79</td>\n",
       "      <td>16707.15</td>\n",
       "      <td>30108.64</td>\n",
       "      <td>0.0</td>\n",
       "      <td>conventional</td>\n",
       "      <td>2015</td>\n",
       "      <td>Atlanta</td>\n",
       "    </tr>\n",
       "    <tr>\n",
       "      <th>2</th>\n",
       "      <td>51</td>\n",
       "      <td>2015-01-04</td>\n",
       "      <td>1.08</td>\n",
       "      <td>788025.06</td>\n",
       "      <td>53987.31</td>\n",
       "      <td>552906.04</td>\n",
       "      <td>39995.03</td>\n",
       "      <td>141136.68</td>\n",
       "      <td>137146.07</td>\n",
       "      <td>3990.61</td>\n",
       "      <td>0.0</td>\n",
       "      <td>conventional</td>\n",
       "      <td>2015</td>\n",
       "      <td>BaltimoreWashington</td>\n",
       "    </tr>\n",
       "    <tr>\n",
       "      <th>3</th>\n",
       "      <td>51</td>\n",
       "      <td>2015-01-04</td>\n",
       "      <td>1.01</td>\n",
       "      <td>80034.32</td>\n",
       "      <td>44562.12</td>\n",
       "      <td>24964.23</td>\n",
       "      <td>2752.35</td>\n",
       "      <td>7755.62</td>\n",
       "      <td>6064.30</td>\n",
       "      <td>1691.32</td>\n",
       "      <td>0.0</td>\n",
       "      <td>conventional</td>\n",
       "      <td>2015</td>\n",
       "      <td>Boise</td>\n",
       "    </tr>\n",
       "    <tr>\n",
       "      <th>4</th>\n",
       "      <td>51</td>\n",
       "      <td>2015-01-04</td>\n",
       "      <td>1.02</td>\n",
       "      <td>491738.00</td>\n",
       "      <td>7193.87</td>\n",
       "      <td>396752.18</td>\n",
       "      <td>128.82</td>\n",
       "      <td>87663.13</td>\n",
       "      <td>87406.84</td>\n",
       "      <td>256.29</td>\n",
       "      <td>0.0</td>\n",
       "      <td>conventional</td>\n",
       "      <td>2015</td>\n",
       "      <td>Boston</td>\n",
       "    </tr>\n",
       "  </tbody>\n",
       "</table>\n",
       "</div>"
      ],
      "text/plain": [
       "   Column1        Date  AveragePrice  Total Volume  Small Avocados  \\\n",
       "0       51  2015-01-04          1.22      40873.28         2819.50   \n",
       "1       51  2015-01-04          1.00     435021.49       364302.39   \n",
       "2       51  2015-01-04          1.08     788025.06        53987.31   \n",
       "3       51  2015-01-04          1.01      80034.32        44562.12   \n",
       "4       51  2015-01-04          1.02     491738.00         7193.87   \n",
       "\n",
       "   Medium Avocados  Large Avocados  Total Bags  Small Bags  Large Bags  \\\n",
       "0         28287.42           49.90     9716.46     9186.93      529.53   \n",
       "1         23821.16           82.15    46815.79    16707.15    30108.64   \n",
       "2        552906.04        39995.03   141136.68   137146.07     3990.61   \n",
       "3         24964.23         2752.35     7755.62     6064.30     1691.32   \n",
       "4        396752.18          128.82    87663.13    87406.84      256.29   \n",
       "\n",
       "   XLarge Bags          type  year               region  \n",
       "0          0.0  conventional  2015               Albany  \n",
       "1          0.0  conventional  2015              Atlanta  \n",
       "2          0.0  conventional  2015  BaltimoreWashington  \n",
       "3          0.0  conventional  2015                Boise  \n",
       "4          0.0  conventional  2015               Boston  "
      ]
     },
     "execution_count": 31,
     "metadata": {},
     "output_type": "execute_result"
    }
   ],
   "source": [
    "data.head()"
   ]
  },
  {
   "cell_type": "code",
   "execution_count": null,
   "metadata": {},
   "outputs": [],
   "source": []
  },
  {
   "cell_type": "markdown",
   "metadata": {},
   "source": [
    "# Visualizations"
   ]
  },
  {
   "cell_type": "code",
   "execution_count": 32,
   "metadata": {
    "scrolled": true
   },
   "outputs": [],
   "source": [
    "# Visualizations"
   ]
  },
  {
   "cell_type": "markdown",
   "metadata": {},
   "source": [
    "## Mean Avocado Volume Over Time"
   ]
  },
  {
   "cell_type": "code",
   "execution_count": 33,
   "metadata": {},
   "outputs": [],
   "source": [
    "# Avocado Volume, Total and By Size\n",
    "\n",
    "\n",
    "all_volumes = ['Total Volume', 'Small Avocados', 'Medium Avocados', 'Large Avocados']\n",
    "vol_per_week = data.groupby(['Date']).sum().loc[:, all_volumes].reset_index()"
   ]
  },
  {
   "cell_type": "code",
   "execution_count": 34,
   "metadata": {},
   "outputs": [
    {
     "name": "stdout",
     "output_type": "stream",
     "text": [
      "Requirement already up-to-date: kaleido in c:\\users\\alexe\\anaconda3\\lib\\site-packages (0.2.1)\n",
      "Note: you may need to restart the kernel to use updated packages.\n"
     ]
    }
   ],
   "source": [
    "pip install -U kaleido"
   ]
  },
  {
   "cell_type": "code",
   "execution_count": 35,
   "metadata": {
    "scrolled": false
   },
   "outputs": [
    {
     "data": {
      "application/vnd.plotly.v1+json": {
       "config": {
        "plotlyServerURL": "https://plot.ly"
       },
       "data": [
        {
         "name": "Total Volume",
         "type": "scatter",
         "x": [
          "2015-01-04",
          "2015-01-11",
          "2015-01-18",
          "2015-01-25",
          "2015-02-01",
          "2015-02-08",
          "2015-02-15",
          "2015-02-22",
          "2015-03-01",
          "2015-03-08",
          "2015-03-15",
          "2015-03-22",
          "2015-03-29",
          "2015-04-05",
          "2015-04-12",
          "2015-04-19",
          "2015-04-26",
          "2015-05-03",
          "2015-05-10",
          "2015-05-17",
          "2015-05-24",
          "2015-05-31",
          "2015-06-07",
          "2015-06-14",
          "2015-06-21",
          "2015-06-28",
          "2015-07-05",
          "2015-07-12",
          "2015-07-19",
          "2015-07-26",
          "2015-08-02",
          "2015-08-09",
          "2015-08-16",
          "2015-08-23",
          "2015-08-30",
          "2015-09-06",
          "2015-09-13",
          "2015-09-20",
          "2015-09-27",
          "2015-10-04",
          "2015-10-11",
          "2015-10-18",
          "2015-10-25",
          "2015-11-01",
          "2015-11-08",
          "2015-11-15",
          "2015-11-22",
          "2015-11-29",
          "2015-12-06",
          "2015-12-13",
          "2015-12-20",
          "2015-12-27",
          "2016-01-03",
          "2016-01-10",
          "2016-01-17",
          "2016-01-24",
          "2016-01-31",
          "2016-02-07",
          "2016-02-14",
          "2016-02-21",
          "2016-02-28",
          "2016-03-06",
          "2016-03-13",
          "2016-03-20",
          "2016-03-27",
          "2016-04-03",
          "2016-04-10",
          "2016-04-17",
          "2016-04-24",
          "2016-05-01",
          "2016-05-08",
          "2016-05-15",
          "2016-05-22",
          "2016-05-29",
          "2016-06-05",
          "2016-06-12",
          "2016-06-19",
          "2016-06-26",
          "2016-07-03",
          "2016-07-10",
          "2016-07-17",
          "2016-07-24",
          "2016-07-31",
          "2016-08-07",
          "2016-08-14",
          "2016-08-21",
          "2016-08-28",
          "2016-09-04",
          "2016-09-11",
          "2016-09-18",
          "2016-09-25",
          "2016-10-02",
          "2016-10-09",
          "2016-10-16",
          "2016-10-23",
          "2016-10-30",
          "2016-11-06",
          "2016-11-13",
          "2016-11-20",
          "2016-11-27",
          "2016-12-04",
          "2016-12-11",
          "2016-12-18",
          "2016-12-25",
          "2017-01-01",
          "2017-01-08",
          "2017-01-15",
          "2017-01-22",
          "2017-01-29",
          "2017-02-05",
          "2017-02-12",
          "2017-02-19",
          "2017-02-26",
          "2017-03-05",
          "2017-03-12",
          "2017-03-19",
          "2017-03-26",
          "2017-04-02",
          "2017-04-09",
          "2017-04-16",
          "2017-04-23",
          "2017-04-30",
          "2017-05-07",
          "2017-05-14",
          "2017-05-21",
          "2017-05-28",
          "2017-06-04",
          "2017-06-11",
          "2017-06-18",
          "2017-06-25",
          "2017-07-02",
          "2017-07-09",
          "2017-07-16",
          "2017-07-23",
          "2017-07-30",
          "2017-08-06",
          "2017-08-13",
          "2017-08-20",
          "2017-08-27",
          "2017-09-03",
          "2017-09-10",
          "2017-09-17",
          "2017-09-24",
          "2017-10-01",
          "2017-10-08",
          "2017-10-15",
          "2017-10-22",
          "2017-10-29",
          "2017-11-05",
          "2017-11-12",
          "2017-11-19",
          "2017-11-26",
          "2017-12-03",
          "2017-12-10",
          "2017-12-17",
          "2017-12-24",
          "2017-12-31",
          "2018-01-07",
          "2018-01-14",
          "2018-01-21",
          "2018-01-28",
          "2018-02-04",
          "2018-02-11",
          "2018-02-18",
          "2018-02-25",
          "2018-03-04",
          "2018-03-11",
          "2018-03-18",
          "2018-03-25"
         ],
         "y": [
          84674337.19999994,
          78555807.24000001,
          78388784.08000004,
          76466281.06999992,
          119453235.24999994,
          86671106.19999997,
          75637163.02999996,
          80876094.75000004,
          89434843.26000006,
          81281673.68,
          79676823.58000006,
          87346316.96999997,
          80843412.28000002,
          84743083.13999997,
          86410695.20000002,
          89176294.86000001,
          83814321.94999997,
          111791841.88000003,
          98873860.94999993,
          86376992.96000001,
          95346225.93999997,
          91395123.06,
          98458280.60000004,
          99753684.25000004,
          96342128.02999997,
          87272650.83000001,
          102096973.48999998,
          85157946.29999995,
          87136612.91000001,
          82310339.92999996,
          81918931.54000008,
          90062660.00999998,
          86277787.15000007,
          80316476.07999992,
          80668960.04000004,
          90281613.67000002,
          84304386.0000001,
          79719906.47000003,
          74912926.90999997,
          76303428.38,
          78747748.72999994,
          79840731.52000003,
          70884202.38999997,
          84649651.21999998,
          77453080.48000003,
          77571499.64999999,
          68287415.46000001,
          61478389.58000003,
          78046589.30000001,
          76138429.29000002,
          68033909.44999991,
          73807003.85,
          102877751.64000003,
          95721014.89999995,
          93191639.16999997,
          89604944.14,
          94010415.73000002,
          140490203.55999988,
          99093417.32000005,
          89041701.42999998,
          100020479.66999994,
          95552818.52999997,
          98976415.91000003,
          99038657.8,
          97644516.04000004,
          91599118.68,
          100018260.80000004,
          101486447.03000003,
          108728925.27999997,
          117282901.19000004,
          126105077.55,
          108313421.96000005,
          100630740.9,
          108898388.97000003,
          109265949.86999997,
          96730957.22000004,
          104560013.89999993,
          99771233.08999999,
          108538389.02999997,
          96812968.16000003,
          88948059.21999995,
          87954827.79000002,
          85021100.03000005,
          92237038.48000002,
          93969046.72999997,
          91842161.95,
          92748719.82,
          101068242.81999998,
          93593312.25000004,
          85043719.64999996,
          82598000.76,
          80911801.61000003,
          78861094.66,
          75891937.64000002,
          67376301.67000002,
          57160668.69999998,
          61805515.389999986,
          66194995.41,
          69054331.99999996,
          63154493.899999976,
          85850834.42000003,
          82299998.15999998,
          80731105.13,
          82565814.16999999,
          104448497.03999996,
          103435109.76000005,
          103836812.57999998,
          114737677.21000001,
          106874936.82000001,
          164405012.55999997,
          111793336.11000001,
          93821423.41999999,
          101447427.75,
          93528301.73000003,
          88180102.26,
          86991452.19000001,
          90203525.57000001,
          95078332.24,
          95532340.5,
          96967237.09000002,
          97520908.62999992,
          104715711.08000001,
          128924334.30000006,
          100860762.98999996,
          94357411.08000003,
          101588033.23999998,
          102610983.78999999,
          101592809.96000004,
          104514401.4,
          101692455.79999998,
          103261015.34000006,
          106952504.41999994,
          88670311.46000002,
          89361464.93000004,
          86658414.21000007,
          88623998.44999999,
          89365374.10000004,
          81779901.83000001,
          78563715.8,
          73669242.16999999,
          72704273.06999998,
          70063266.33000003,
          68342754.75999999,
          68116443.37,
          67810318.17000003,
          69569184.96000001,
          73958768.28000009,
          83323241.96000002,
          87805145.68999995,
          88398477.58000003,
          80103132.84999998,
          68212552.41000001,
          92510848.38,
          98084216.04999998,
          84587343.80999997,
          79997580.33000001,
          104152871.45999996,
          100797144.31,
          102027729.63999997,
          117087151.15000002,
          109795058.52000004,
          169177831.6900001,
          117577618.37000005,
          101791302.61999999,
          109231443.73999996,
          111844929.75999996,
          111465199.18000002,
          113673979.17999999,
          118268952.09999998
         ]
        },
        {
         "name": "Small Avocados",
         "type": "scatter",
         "x": [
          "2015-01-04",
          "2015-01-11",
          "2015-01-18",
          "2015-01-25",
          "2015-02-01",
          "2015-02-08",
          "2015-02-15",
          "2015-02-22",
          "2015-03-01",
          "2015-03-08",
          "2015-03-15",
          "2015-03-22",
          "2015-03-29",
          "2015-04-05",
          "2015-04-12",
          "2015-04-19",
          "2015-04-26",
          "2015-05-03",
          "2015-05-10",
          "2015-05-17",
          "2015-05-24",
          "2015-05-31",
          "2015-06-07",
          "2015-06-14",
          "2015-06-21",
          "2015-06-28",
          "2015-07-05",
          "2015-07-12",
          "2015-07-19",
          "2015-07-26",
          "2015-08-02",
          "2015-08-09",
          "2015-08-16",
          "2015-08-23",
          "2015-08-30",
          "2015-09-06",
          "2015-09-13",
          "2015-09-20",
          "2015-09-27",
          "2015-10-04",
          "2015-10-11",
          "2015-10-18",
          "2015-10-25",
          "2015-11-01",
          "2015-11-08",
          "2015-11-15",
          "2015-11-22",
          "2015-11-29",
          "2015-12-06",
          "2015-12-13",
          "2015-12-20",
          "2015-12-27",
          "2016-01-03",
          "2016-01-10",
          "2016-01-17",
          "2016-01-24",
          "2016-01-31",
          "2016-02-07",
          "2016-02-14",
          "2016-02-21",
          "2016-02-28",
          "2016-03-06",
          "2016-03-13",
          "2016-03-20",
          "2016-03-27",
          "2016-04-03",
          "2016-04-10",
          "2016-04-17",
          "2016-04-24",
          "2016-05-01",
          "2016-05-08",
          "2016-05-15",
          "2016-05-22",
          "2016-05-29",
          "2016-06-05",
          "2016-06-12",
          "2016-06-19",
          "2016-06-26",
          "2016-07-03",
          "2016-07-10",
          "2016-07-17",
          "2016-07-24",
          "2016-07-31",
          "2016-08-07",
          "2016-08-14",
          "2016-08-21",
          "2016-08-28",
          "2016-09-04",
          "2016-09-11",
          "2016-09-18",
          "2016-09-25",
          "2016-10-02",
          "2016-10-09",
          "2016-10-16",
          "2016-10-23",
          "2016-10-30",
          "2016-11-06",
          "2016-11-13",
          "2016-11-20",
          "2016-11-27",
          "2016-12-04",
          "2016-12-11",
          "2016-12-18",
          "2016-12-25",
          "2017-01-01",
          "2017-01-08",
          "2017-01-15",
          "2017-01-22",
          "2017-01-29",
          "2017-02-05",
          "2017-02-12",
          "2017-02-19",
          "2017-02-26",
          "2017-03-05",
          "2017-03-12",
          "2017-03-19",
          "2017-03-26",
          "2017-04-02",
          "2017-04-09",
          "2017-04-16",
          "2017-04-23",
          "2017-04-30",
          "2017-05-07",
          "2017-05-14",
          "2017-05-21",
          "2017-05-28",
          "2017-06-04",
          "2017-06-11",
          "2017-06-18",
          "2017-06-25",
          "2017-07-02",
          "2017-07-09",
          "2017-07-16",
          "2017-07-23",
          "2017-07-30",
          "2017-08-06",
          "2017-08-13",
          "2017-08-20",
          "2017-08-27",
          "2017-09-03",
          "2017-09-10",
          "2017-09-17",
          "2017-09-24",
          "2017-10-01",
          "2017-10-08",
          "2017-10-15",
          "2017-10-22",
          "2017-10-29",
          "2017-11-05",
          "2017-11-12",
          "2017-11-19",
          "2017-11-26",
          "2017-12-03",
          "2017-12-10",
          "2017-12-17",
          "2017-12-24",
          "2017-12-31",
          "2018-01-07",
          "2018-01-14",
          "2018-01-21",
          "2018-01-28",
          "2018-02-04",
          "2018-02-11",
          "2018-02-18",
          "2018-02-25",
          "2018-03-04",
          "2018-03-11",
          "2018-03-18",
          "2018-03-25"
         ],
         "y": [
          33098258.74,
          31024164.99,
          31802706.859999996,
          32305132.87,
          50292988.95999999,
          35120949.73000002,
          33814337.229999974,
          33938222.64,
          35913457.05,
          34733696.39999997,
          35104196.089999974,
          36251254.44000002,
          33297870.220000003,
          36979793.17,
          38953641.750000015,
          37777316.67000001,
          36870507.54999998,
          47741032.199999996,
          43130083.83,
          38615627.18999998,
          42454302.29,
          41296142.449999996,
          43839309.22999998,
          43516973.73000002,
          39180569.120000005,
          35340108.23000001,
          41726922.789999984,
          32826891.999999993,
          33987014.859999985,
          32488410.21000001,
          32314563.72999999,
          34877700.02000002,
          33783524.39000001,
          30008296.819999997,
          31183767.450000003,
          33438709.919999998,
          26106277.319999997,
          25058076.76000001,
          22438437.08,
          22104999.449999988,
          23329872.25,
          24478025.68,
          22956928.11,
          27090603.340000004,
          26807044.390000015,
          26444329.879999988,
          22710092.529999997,
          21457105.089999996,
          24958083.029999994,
          25990264.350000005,
          23014715.97,
          25476680.29,
          30490337.09,
          30071302.830000002,
          26240144.91,
          18716256.62,
          28859317,
          43082575.18999998,
          30956277.43999999,
          26108984.619999994,
          31057051.359999992,
          30774900.419999998,
          30235548.120000005,
          29021238.17,
          29417077.139999997,
          29536320.709999993,
          33685076.860000014,
          31170212.139999997,
          33868962.93000001,
          36302845.84999999,
          37035618.93000001,
          32559193.01,
          30408870.960000005,
          35592746.249999985,
          36121805.029999994,
          32296608.210000005,
          35470812.09,
          32037322.68,
          33104579.539999995,
          30194101.750000007,
          27210365.020000003,
          27287945.42999999,
          26782287.269999985,
          32124173.54,
          32463914.340000015,
          33546249.07999998,
          33012755.150000017,
          38467199.65000001,
          34242584.96,
          29565079.029999994,
          27801230.790000007,
          25166917.609999996,
          24995832.689999998,
          23156495.199999988,
          19938216.93,
          18434207.349999998,
          20298843.19,
          21666493.550000004,
          22596020.619999997,
          20873659.200000003,
          28787689.280000024,
          23429918.930000003,
          24570005.080000002,
          24288720.560000006,
          32682960.869999994,
          30651620.250000007,
          33705482.23999999,
          37479734.870000005,
          36693809.82000001,
          58969251.95000001,
          39479900.76000002,
          29883162.43000002,
          34271061.81999998,
          29651260.999999993,
          29272112.52,
          28820877.34,
          30777835.280000005,
          32068219.379999995,
          31525592.340000007,
          32353812.7,
          31928699.729999997,
          35118527.19000001,
          44607547.56,
          33695497.55,
          31894149.45000001,
          33786070.99000002,
          34827747.480000004,
          35371549.389999986,
          34174905.149999976,
          33909887.440000005,
          33215380.820000004,
          34109742.46,
          29444903.18999999,
          30155295.229999993,
          29341806.71,
          29833638.979999993,
          28965880.069999993,
          27802710.84,
          28106228.440000013,
          25817778.259999998,
          25104614.909999993,
          24168736.81,
          22887412.780000016,
          21996344.02,
          23487108.42,
          23117274.419999998,
          25313510.289999995,
          27955291.889999997,
          29084338.090000007,
          30285309.220000003,
          29329966.229999993,
          24201845.280000005,
          30891382.09,
          31276496.640000004,
          28026060.919999998,
          26345567.679999996,
          34172229.32999997,
          35857619.999999985,
          32930319.24999999,
          37148000.08999998,
          37788613.24,
          56552857.68,
          41542374.940000005,
          35159360.919999994,
          36101449.620000005,
          37680590.599999994,
          37014593.27999999,
          35938794.17000001,
          36785160.30999997
         ]
        },
        {
         "name": "Medium Avocados",
         "type": "scatter",
         "x": [
          "2015-01-04",
          "2015-01-11",
          "2015-01-18",
          "2015-01-25",
          "2015-02-01",
          "2015-02-08",
          "2015-02-15",
          "2015-02-22",
          "2015-03-01",
          "2015-03-08",
          "2015-03-15",
          "2015-03-22",
          "2015-03-29",
          "2015-04-05",
          "2015-04-12",
          "2015-04-19",
          "2015-04-26",
          "2015-05-03",
          "2015-05-10",
          "2015-05-17",
          "2015-05-24",
          "2015-05-31",
          "2015-06-07",
          "2015-06-14",
          "2015-06-21",
          "2015-06-28",
          "2015-07-05",
          "2015-07-12",
          "2015-07-19",
          "2015-07-26",
          "2015-08-02",
          "2015-08-09",
          "2015-08-16",
          "2015-08-23",
          "2015-08-30",
          "2015-09-06",
          "2015-09-13",
          "2015-09-20",
          "2015-09-27",
          "2015-10-04",
          "2015-10-11",
          "2015-10-18",
          "2015-10-25",
          "2015-11-01",
          "2015-11-08",
          "2015-11-15",
          "2015-11-22",
          "2015-11-29",
          "2015-12-06",
          "2015-12-13",
          "2015-12-20",
          "2015-12-27",
          "2016-01-03",
          "2016-01-10",
          "2016-01-17",
          "2016-01-24",
          "2016-01-31",
          "2016-02-07",
          "2016-02-14",
          "2016-02-21",
          "2016-02-28",
          "2016-03-06",
          "2016-03-13",
          "2016-03-20",
          "2016-03-27",
          "2016-04-03",
          "2016-04-10",
          "2016-04-17",
          "2016-04-24",
          "2016-05-01",
          "2016-05-08",
          "2016-05-15",
          "2016-05-22",
          "2016-05-29",
          "2016-06-05",
          "2016-06-12",
          "2016-06-19",
          "2016-06-26",
          "2016-07-03",
          "2016-07-10",
          "2016-07-17",
          "2016-07-24",
          "2016-07-31",
          "2016-08-07",
          "2016-08-14",
          "2016-08-21",
          "2016-08-28",
          "2016-09-04",
          "2016-09-11",
          "2016-09-18",
          "2016-09-25",
          "2016-10-02",
          "2016-10-09",
          "2016-10-16",
          "2016-10-23",
          "2016-10-30",
          "2016-11-06",
          "2016-11-13",
          "2016-11-20",
          "2016-11-27",
          "2016-12-04",
          "2016-12-11",
          "2016-12-18",
          "2016-12-25",
          "2017-01-01",
          "2017-01-08",
          "2017-01-15",
          "2017-01-22",
          "2017-01-29",
          "2017-02-05",
          "2017-02-12",
          "2017-02-19",
          "2017-02-26",
          "2017-03-05",
          "2017-03-12",
          "2017-03-19",
          "2017-03-26",
          "2017-04-02",
          "2017-04-09",
          "2017-04-16",
          "2017-04-23",
          "2017-04-30",
          "2017-05-07",
          "2017-05-14",
          "2017-05-21",
          "2017-05-28",
          "2017-06-04",
          "2017-06-11",
          "2017-06-18",
          "2017-06-25",
          "2017-07-02",
          "2017-07-09",
          "2017-07-16",
          "2017-07-23",
          "2017-07-30",
          "2017-08-06",
          "2017-08-13",
          "2017-08-20",
          "2017-08-27",
          "2017-09-03",
          "2017-09-10",
          "2017-09-17",
          "2017-09-24",
          "2017-10-01",
          "2017-10-08",
          "2017-10-15",
          "2017-10-22",
          "2017-10-29",
          "2017-11-05",
          "2017-11-12",
          "2017-11-19",
          "2017-11-26",
          "2017-12-03",
          "2017-12-10",
          "2017-12-17",
          "2017-12-24",
          "2017-12-31",
          "2018-01-07",
          "2018-01-14",
          "2018-01-21",
          "2018-01-28",
          "2018-02-04",
          "2018-02-11",
          "2018-02-18",
          "2018-02-25",
          "2018-03-04",
          "2018-03-11",
          "2018-03-18",
          "2018-03-25"
         ],
         "y": [
          36851038.43000004,
          32808429.84,
          31662041.929999996,
          28929122.36999999,
          50696230.47999995,
          36424185.52000001,
          26515967.199999977,
          30699337.13000001,
          37219254.419999994,
          29824527.710000012,
          28841223.420000017,
          34501466.61000001,
          31522807.29000001,
          31322879.55,
          30925753.750000007,
          33509132.19000001,
          30019096.11,
          45065142.790000014,
          37233713.29999999,
          30128897.579999994,
          34184910.610000014,
          31945182.77,
          34388201.61999999,
          34989962.50000002,
          36152041.14,
          31455112.230000004,
          38505578.20999999,
          33589383.30000002,
          34227825.119999975,
          32375549.249999993,
          33257155.189999998,
          37917434.939999975,
          35387652.73000002,
          34220269.52000002,
          32738606.680000003,
          38491436.03000001,
          40498065.96000002,
          37500048.00000001,
          37517315.659999974,
          37462888.829999976,
          36151300.839999974,
          38639170.74999998,
          31060297.580000002,
          39120807.34999998,
          33403243.549999993,
          32070451.83,
          28553249.45,
          24720307.39,
          33066902.569999985,
          29483598.230000015,
          25560782.729999986,
          27719055.939999998,
          43307897.00000001,
          36007561.31000001,
          37785328.449999996,
          38241875.87000001,
          36274334.81999999,
          55331379.33000002,
          36283926.610000014,
          32881330.18999998,
          36466895.95000001,
          33616790.54,
          36168589.309999995,
          37742134.52000001,
          35059611.26000001,
          31925247.600000005,
          31985556.800000012,
          35164265.58999998,
          40006670.48000004,
          43955891.680000015,
          49535708.870000005,
          39889361.94999999,
          35915201.10000001,
          38384344.28999999,
          36802076.250000015,
          31794819.27000002,
          35165025.09000002,
          33258154.570000004,
          36178026.50000003,
          31794159.610000003,
          29075469.000000007,
          29476257.569999997,
          28445184.119999986,
          29356435.78000002,
          29981587.23,
          27297229.060000002,
          28744896.240000013,
          30498686.339999996,
          28775139.06,
          25929428.269999992,
          25414207.76999998,
          25166223.80999999,
          26461591.16999999,
          24414049.399999995,
          22243107.52999999,
          19237436.93999999,
          19747433.959999982,
          21465314.06000001,
          22332209.939999994,
          20372854.230000008,
          27236656.670000006,
          27561128.399999987,
          28544890.370000005,
          28028706.269999996,
          38479242.21000004,
          38014639.97000002,
          34420771.87999999,
          38849261.200000025,
          32033480.39999999,
          55474222.68000001,
          33516544.249999993,
          29335495.680000015,
          31470347.42,
          30128640.579999983,
          26544710.589999996,
          26816160.729999997,
          26747822.39,
          27158137.830000017,
          29830630.199999988,
          28064069.109999996,
          28315279.719999995,
          31336672.839999992,
          37371731.16000001,
          26975278.82999999,
          28320036.57999999,
          30153530.830000002,
          28212102.95,
          27913496.020000014,
          31059820.03999999,
          29820408.33999999,
          30045377.299999993,
          30302408.199999988,
          30529600.78999999,
          30953214.270000007,
          30110758.650000002,
          29728211.81,
          30125724.460000005,
          24131982.76999998,
          23549249.199999996,
          23611159.240000002,
          23071843.62999999,
          23020598.02,
          22994893.540000003,
          23121182.08999999,
          21176098.62,
          23625203.8,
          24207624.229999997,
          27080607.230000008,
          26895859.369999994,
          27456130.490000002,
          21648391.92000001,
          20252779.860000003,
          29980600.55,
          32490020.6,
          27561624.43,
          24659548.950000003,
          36041491.079999976,
          29725692.530000005,
          32503117.529999997,
          38526171.50999999,
          33813928.230000004,
          56223802.580000035,
          32041343.78000001,
          30096038.049999997,
          28851825.03000001,
          31640490.619999986,
          30127345.96000001,
          30868435.840000004,
          33340482.619999986
         ]
        },
        {
         "name": "Large Avocados",
         "type": "scatter",
         "x": [
          "2015-01-04",
          "2015-01-11",
          "2015-01-18",
          "2015-01-25",
          "2015-02-01",
          "2015-02-08",
          "2015-02-15",
          "2015-02-22",
          "2015-03-01",
          "2015-03-08",
          "2015-03-15",
          "2015-03-22",
          "2015-03-29",
          "2015-04-05",
          "2015-04-12",
          "2015-04-19",
          "2015-04-26",
          "2015-05-03",
          "2015-05-10",
          "2015-05-17",
          "2015-05-24",
          "2015-05-31",
          "2015-06-07",
          "2015-06-14",
          "2015-06-21",
          "2015-06-28",
          "2015-07-05",
          "2015-07-12",
          "2015-07-19",
          "2015-07-26",
          "2015-08-02",
          "2015-08-09",
          "2015-08-16",
          "2015-08-23",
          "2015-08-30",
          "2015-09-06",
          "2015-09-13",
          "2015-09-20",
          "2015-09-27",
          "2015-10-04",
          "2015-10-11",
          "2015-10-18",
          "2015-10-25",
          "2015-11-01",
          "2015-11-08",
          "2015-11-15",
          "2015-11-22",
          "2015-11-29",
          "2015-12-06",
          "2015-12-13",
          "2015-12-20",
          "2015-12-27",
          "2016-01-03",
          "2016-01-10",
          "2016-01-17",
          "2016-01-24",
          "2016-01-31",
          "2016-02-07",
          "2016-02-14",
          "2016-02-21",
          "2016-02-28",
          "2016-03-06",
          "2016-03-13",
          "2016-03-20",
          "2016-03-27",
          "2016-04-03",
          "2016-04-10",
          "2016-04-17",
          "2016-04-24",
          "2016-05-01",
          "2016-05-08",
          "2016-05-15",
          "2016-05-22",
          "2016-05-29",
          "2016-06-05",
          "2016-06-12",
          "2016-06-19",
          "2016-06-26",
          "2016-07-03",
          "2016-07-10",
          "2016-07-17",
          "2016-07-24",
          "2016-07-31",
          "2016-08-07",
          "2016-08-14",
          "2016-08-21",
          "2016-08-28",
          "2016-09-04",
          "2016-09-11",
          "2016-09-18",
          "2016-09-25",
          "2016-10-02",
          "2016-10-09",
          "2016-10-16",
          "2016-10-23",
          "2016-10-30",
          "2016-11-06",
          "2016-11-13",
          "2016-11-20",
          "2016-11-27",
          "2016-12-04",
          "2016-12-11",
          "2016-12-18",
          "2016-12-25",
          "2017-01-01",
          "2017-01-08",
          "2017-01-15",
          "2017-01-22",
          "2017-01-29",
          "2017-02-05",
          "2017-02-12",
          "2017-02-19",
          "2017-02-26",
          "2017-03-05",
          "2017-03-12",
          "2017-03-19",
          "2017-03-26",
          "2017-04-02",
          "2017-04-09",
          "2017-04-16",
          "2017-04-23",
          "2017-04-30",
          "2017-05-07",
          "2017-05-14",
          "2017-05-21",
          "2017-05-28",
          "2017-06-04",
          "2017-06-11",
          "2017-06-18",
          "2017-06-25",
          "2017-07-02",
          "2017-07-09",
          "2017-07-16",
          "2017-07-23",
          "2017-07-30",
          "2017-08-06",
          "2017-08-13",
          "2017-08-20",
          "2017-08-27",
          "2017-09-03",
          "2017-09-10",
          "2017-09-17",
          "2017-09-24",
          "2017-10-01",
          "2017-10-08",
          "2017-10-15",
          "2017-10-22",
          "2017-10-29",
          "2017-11-05",
          "2017-11-12",
          "2017-11-19",
          "2017-11-26",
          "2017-12-03",
          "2017-12-10",
          "2017-12-17",
          "2017-12-24",
          "2017-12-31",
          "2018-01-07",
          "2018-01-14",
          "2018-01-21",
          "2018-01-28",
          "2018-02-04",
          "2018-02-11",
          "2018-02-18",
          "2018-02-25",
          "2018-03-04",
          "2018-03-11",
          "2018-03-18",
          "2018-03-25"
         ],
         "y": [
          2278818.639999999,
          2349167.45,
          2208250.5500000003,
          2078378.8600000006,
          3687489.309999999,
          1998391.5799999994,
          2256356.829999999,
          2521101.4099999997,
          2866788.86,
          2241036.96,
          2328435.6400000006,
          2842666.3499999996,
          2178292.2500000005,
          2318916.3000000003,
          2143869.5700000003,
          2682317.7300000014,
          2383140.43,
          3035870.1499999994,
          2326586.330000001,
          2648090.9199999995,
          2440114.7299999995,
          2467988.360000001,
          3039774.769999999,
          2889489.3999999994,
          3499684.750000001,
          2771477.6900000004,
          3558117.940000001,
          2638564.2399999984,
          3076013.349999999,
          2699681.5,
          2615050.249999999,
          2715513.6899999995,
          3070379.479999999,
          2467084.2999999993,
          2847681.6900000004,
          3068803.0900000003,
          3036147.06,
          3016181.6200000006,
          2869834.1999999997,
          3236550.8999999985,
          4284398.079999999,
          3259761.9599999986,
          3199084.24,
          3781606.4899999998,
          3056987.7100000004,
          2194575.1500000004,
          2153527.5799999996,
          1956433.52,
          2494071.6799999997,
          2707256.9000000004,
          3165362.659999999,
          3121229.45,
          4187629.960000001,
          3416833.2399999993,
          3788142.2200000016,
          3852486.09,
          4311724.8599999985,
          6606256.379999999,
          4749015.26,
          3604624.87,
          4121328.2299999986,
          4409335.47,
          4664406.79,
          4609563.0600000005,
          4889480.620000003,
          4509515.670000001,
          4383366.179999999,
          4956130.250000002,
          4226198.320000002,
          3766472.5799999996,
          5293116.8,
          4581013.140000001,
          4401439.35,
          4284619.249999999,
          4761419.700000001,
          4312029.93,
          4375357.030000001,
          4322303.84,
          4653806.210000001,
          3377133.449999999,
          2569959.91,
          2552844.7500000005,
          2125820.3299999996,
          2058887.6500000001,
          2026752.4800000002,
          1644789.7500000005,
          1549851.0500000003,
          1476137.84,
          1402739.51,
          1337187.3400000003,
          1366106.6700000006,
          1360157.3899999997,
          1355233.2200000007,
          1234862.4499999995,
          1251812.94,
          1263956.1600000004,
          1409232.16,
          1328973.5300000003,
          1131986.1399999994,
          959205.8999999997,
          1185870.7599999998,
          1135176.7500000002,
          1202256.75,
          1535294.8300000003,
          1522622.47,
          1512371.1500000004,
          1639205.9800000007,
          2573672.1300000004,
          2250766.479999999,
          4563719.239999999,
          2328432.1700000004,
          2218119.44,
          2385237.7999999993,
          2149182.8800000004,
          1969157.46,
          1742866.8999999997,
          1669451.27,
          1700840.5300000003,
          1775085.4299999995,
          1781130.45,
          1677915.7799999998,
          1831324.21,
          2340720.1499999994,
          1791320.1599999997,
          1701734.3199999996,
          1828345.0799999996,
          1811392.0300000005,
          1754606.0900000003,
          2150868.3700000006,
          1774384.4800000002,
          2292698.78,
          2184282.12,
          2040781.7000000002,
          1675597.4600000002,
          1631641.1699999997,
          1808045.8600000003,
          1716102.4500000002,
          1594299.4100000001,
          1425321.7699999996,
          1486754.2900000003,
          1341793.6200000006,
          1145048.9800000002,
          1036294.3799999995,
          1051230.6099999999,
          1080676.1599999997,
          1091739.9100000006,
          1132537.4299999995,
          1174424.1099999996,
          1099217.77,
          1151166.68,
          1144090.8000000003,
          1050491.52,
          1561070.46,
          1095858.05,
          1542922.5799999998,
          1487550.0300000005,
          1731397.23,
          1838895.0700000003,
          1781474.56,
          2464241.0000000005,
          1570133.69,
          2801523.520000001,
          1775129.0199999996,
          1512338.2099999997,
          1937291.3499999999,
          1546057.5299999998,
          1906686.2,
          1754038.3899999997,
          2044786.2500000007
         ]
        }
       ],
       "layout": {
        "template": {
         "data": {
          "bar": [
           {
            "error_x": {
             "color": "#2a3f5f"
            },
            "error_y": {
             "color": "#2a3f5f"
            },
            "marker": {
             "line": {
              "color": "#E5ECF6",
              "width": 0.5
             },
             "pattern": {
              "fillmode": "overlay",
              "size": 10,
              "solidity": 0.2
             }
            },
            "type": "bar"
           }
          ],
          "barpolar": [
           {
            "marker": {
             "line": {
              "color": "#E5ECF6",
              "width": 0.5
             },
             "pattern": {
              "fillmode": "overlay",
              "size": 10,
              "solidity": 0.2
             }
            },
            "type": "barpolar"
           }
          ],
          "carpet": [
           {
            "aaxis": {
             "endlinecolor": "#2a3f5f",
             "gridcolor": "white",
             "linecolor": "white",
             "minorgridcolor": "white",
             "startlinecolor": "#2a3f5f"
            },
            "baxis": {
             "endlinecolor": "#2a3f5f",
             "gridcolor": "white",
             "linecolor": "white",
             "minorgridcolor": "white",
             "startlinecolor": "#2a3f5f"
            },
            "type": "carpet"
           }
          ],
          "choropleth": [
           {
            "colorbar": {
             "outlinewidth": 0,
             "ticks": ""
            },
            "type": "choropleth"
           }
          ],
          "contour": [
           {
            "colorbar": {
             "outlinewidth": 0,
             "ticks": ""
            },
            "colorscale": [
             [
              0,
              "#0d0887"
             ],
             [
              0.1111111111111111,
              "#46039f"
             ],
             [
              0.2222222222222222,
              "#7201a8"
             ],
             [
              0.3333333333333333,
              "#9c179e"
             ],
             [
              0.4444444444444444,
              "#bd3786"
             ],
             [
              0.5555555555555556,
              "#d8576b"
             ],
             [
              0.6666666666666666,
              "#ed7953"
             ],
             [
              0.7777777777777778,
              "#fb9f3a"
             ],
             [
              0.8888888888888888,
              "#fdca26"
             ],
             [
              1,
              "#f0f921"
             ]
            ],
            "type": "contour"
           }
          ],
          "contourcarpet": [
           {
            "colorbar": {
             "outlinewidth": 0,
             "ticks": ""
            },
            "type": "contourcarpet"
           }
          ],
          "heatmap": [
           {
            "colorbar": {
             "outlinewidth": 0,
             "ticks": ""
            },
            "colorscale": [
             [
              0,
              "#0d0887"
             ],
             [
              0.1111111111111111,
              "#46039f"
             ],
             [
              0.2222222222222222,
              "#7201a8"
             ],
             [
              0.3333333333333333,
              "#9c179e"
             ],
             [
              0.4444444444444444,
              "#bd3786"
             ],
             [
              0.5555555555555556,
              "#d8576b"
             ],
             [
              0.6666666666666666,
              "#ed7953"
             ],
             [
              0.7777777777777778,
              "#fb9f3a"
             ],
             [
              0.8888888888888888,
              "#fdca26"
             ],
             [
              1,
              "#f0f921"
             ]
            ],
            "type": "heatmap"
           }
          ],
          "heatmapgl": [
           {
            "colorbar": {
             "outlinewidth": 0,
             "ticks": ""
            },
            "colorscale": [
             [
              0,
              "#0d0887"
             ],
             [
              0.1111111111111111,
              "#46039f"
             ],
             [
              0.2222222222222222,
              "#7201a8"
             ],
             [
              0.3333333333333333,
              "#9c179e"
             ],
             [
              0.4444444444444444,
              "#bd3786"
             ],
             [
              0.5555555555555556,
              "#d8576b"
             ],
             [
              0.6666666666666666,
              "#ed7953"
             ],
             [
              0.7777777777777778,
              "#fb9f3a"
             ],
             [
              0.8888888888888888,
              "#fdca26"
             ],
             [
              1,
              "#f0f921"
             ]
            ],
            "type": "heatmapgl"
           }
          ],
          "histogram": [
           {
            "marker": {
             "pattern": {
              "fillmode": "overlay",
              "size": 10,
              "solidity": 0.2
             }
            },
            "type": "histogram"
           }
          ],
          "histogram2d": [
           {
            "colorbar": {
             "outlinewidth": 0,
             "ticks": ""
            },
            "colorscale": [
             [
              0,
              "#0d0887"
             ],
             [
              0.1111111111111111,
              "#46039f"
             ],
             [
              0.2222222222222222,
              "#7201a8"
             ],
             [
              0.3333333333333333,
              "#9c179e"
             ],
             [
              0.4444444444444444,
              "#bd3786"
             ],
             [
              0.5555555555555556,
              "#d8576b"
             ],
             [
              0.6666666666666666,
              "#ed7953"
             ],
             [
              0.7777777777777778,
              "#fb9f3a"
             ],
             [
              0.8888888888888888,
              "#fdca26"
             ],
             [
              1,
              "#f0f921"
             ]
            ],
            "type": "histogram2d"
           }
          ],
          "histogram2dcontour": [
           {
            "colorbar": {
             "outlinewidth": 0,
             "ticks": ""
            },
            "colorscale": [
             [
              0,
              "#0d0887"
             ],
             [
              0.1111111111111111,
              "#46039f"
             ],
             [
              0.2222222222222222,
              "#7201a8"
             ],
             [
              0.3333333333333333,
              "#9c179e"
             ],
             [
              0.4444444444444444,
              "#bd3786"
             ],
             [
              0.5555555555555556,
              "#d8576b"
             ],
             [
              0.6666666666666666,
              "#ed7953"
             ],
             [
              0.7777777777777778,
              "#fb9f3a"
             ],
             [
              0.8888888888888888,
              "#fdca26"
             ],
             [
              1,
              "#f0f921"
             ]
            ],
            "type": "histogram2dcontour"
           }
          ],
          "mesh3d": [
           {
            "colorbar": {
             "outlinewidth": 0,
             "ticks": ""
            },
            "type": "mesh3d"
           }
          ],
          "parcoords": [
           {
            "line": {
             "colorbar": {
              "outlinewidth": 0,
              "ticks": ""
             }
            },
            "type": "parcoords"
           }
          ],
          "pie": [
           {
            "automargin": true,
            "type": "pie"
           }
          ],
          "scatter": [
           {
            "marker": {
             "colorbar": {
              "outlinewidth": 0,
              "ticks": ""
             }
            },
            "type": "scatter"
           }
          ],
          "scatter3d": [
           {
            "line": {
             "colorbar": {
              "outlinewidth": 0,
              "ticks": ""
             }
            },
            "marker": {
             "colorbar": {
              "outlinewidth": 0,
              "ticks": ""
             }
            },
            "type": "scatter3d"
           }
          ],
          "scattercarpet": [
           {
            "marker": {
             "colorbar": {
              "outlinewidth": 0,
              "ticks": ""
             }
            },
            "type": "scattercarpet"
           }
          ],
          "scattergeo": [
           {
            "marker": {
             "colorbar": {
              "outlinewidth": 0,
              "ticks": ""
             }
            },
            "type": "scattergeo"
           }
          ],
          "scattergl": [
           {
            "marker": {
             "colorbar": {
              "outlinewidth": 0,
              "ticks": ""
             }
            },
            "type": "scattergl"
           }
          ],
          "scattermapbox": [
           {
            "marker": {
             "colorbar": {
              "outlinewidth": 0,
              "ticks": ""
             }
            },
            "type": "scattermapbox"
           }
          ],
          "scatterpolar": [
           {
            "marker": {
             "colorbar": {
              "outlinewidth": 0,
              "ticks": ""
             }
            },
            "type": "scatterpolar"
           }
          ],
          "scatterpolargl": [
           {
            "marker": {
             "colorbar": {
              "outlinewidth": 0,
              "ticks": ""
             }
            },
            "type": "scatterpolargl"
           }
          ],
          "scatterternary": [
           {
            "marker": {
             "colorbar": {
              "outlinewidth": 0,
              "ticks": ""
             }
            },
            "type": "scatterternary"
           }
          ],
          "surface": [
           {
            "colorbar": {
             "outlinewidth": 0,
             "ticks": ""
            },
            "colorscale": [
             [
              0,
              "#0d0887"
             ],
             [
              0.1111111111111111,
              "#46039f"
             ],
             [
              0.2222222222222222,
              "#7201a8"
             ],
             [
              0.3333333333333333,
              "#9c179e"
             ],
             [
              0.4444444444444444,
              "#bd3786"
             ],
             [
              0.5555555555555556,
              "#d8576b"
             ],
             [
              0.6666666666666666,
              "#ed7953"
             ],
             [
              0.7777777777777778,
              "#fb9f3a"
             ],
             [
              0.8888888888888888,
              "#fdca26"
             ],
             [
              1,
              "#f0f921"
             ]
            ],
            "type": "surface"
           }
          ],
          "table": [
           {
            "cells": {
             "fill": {
              "color": "#EBF0F8"
             },
             "line": {
              "color": "white"
             }
            },
            "header": {
             "fill": {
              "color": "#C8D4E3"
             },
             "line": {
              "color": "white"
             }
            },
            "type": "table"
           }
          ]
         },
         "layout": {
          "annotationdefaults": {
           "arrowcolor": "#2a3f5f",
           "arrowhead": 0,
           "arrowwidth": 1
          },
          "autotypenumbers": "strict",
          "coloraxis": {
           "colorbar": {
            "outlinewidth": 0,
            "ticks": ""
           }
          },
          "colorscale": {
           "diverging": [
            [
             0,
             "#8e0152"
            ],
            [
             0.1,
             "#c51b7d"
            ],
            [
             0.2,
             "#de77ae"
            ],
            [
             0.3,
             "#f1b6da"
            ],
            [
             0.4,
             "#fde0ef"
            ],
            [
             0.5,
             "#f7f7f7"
            ],
            [
             0.6,
             "#e6f5d0"
            ],
            [
             0.7,
             "#b8e186"
            ],
            [
             0.8,
             "#7fbc41"
            ],
            [
             0.9,
             "#4d9221"
            ],
            [
             1,
             "#276419"
            ]
           ],
           "sequential": [
            [
             0,
             "#0d0887"
            ],
            [
             0.1111111111111111,
             "#46039f"
            ],
            [
             0.2222222222222222,
             "#7201a8"
            ],
            [
             0.3333333333333333,
             "#9c179e"
            ],
            [
             0.4444444444444444,
             "#bd3786"
            ],
            [
             0.5555555555555556,
             "#d8576b"
            ],
            [
             0.6666666666666666,
             "#ed7953"
            ],
            [
             0.7777777777777778,
             "#fb9f3a"
            ],
            [
             0.8888888888888888,
             "#fdca26"
            ],
            [
             1,
             "#f0f921"
            ]
           ],
           "sequentialminus": [
            [
             0,
             "#0d0887"
            ],
            [
             0.1111111111111111,
             "#46039f"
            ],
            [
             0.2222222222222222,
             "#7201a8"
            ],
            [
             0.3333333333333333,
             "#9c179e"
            ],
            [
             0.4444444444444444,
             "#bd3786"
            ],
            [
             0.5555555555555556,
             "#d8576b"
            ],
            [
             0.6666666666666666,
             "#ed7953"
            ],
            [
             0.7777777777777778,
             "#fb9f3a"
            ],
            [
             0.8888888888888888,
             "#fdca26"
            ],
            [
             1,
             "#f0f921"
            ]
           ]
          },
          "colorway": [
           "#636efa",
           "#EF553B",
           "#00cc96",
           "#ab63fa",
           "#FFA15A",
           "#19d3f3",
           "#FF6692",
           "#B6E880",
           "#FF97FF",
           "#FECB52"
          ],
          "font": {
           "color": "#2a3f5f"
          },
          "geo": {
           "bgcolor": "white",
           "lakecolor": "white",
           "landcolor": "#E5ECF6",
           "showlakes": true,
           "showland": true,
           "subunitcolor": "white"
          },
          "hoverlabel": {
           "align": "left"
          },
          "hovermode": "closest",
          "mapbox": {
           "style": "light"
          },
          "paper_bgcolor": "white",
          "plot_bgcolor": "#E5ECF6",
          "polar": {
           "angularaxis": {
            "gridcolor": "white",
            "linecolor": "white",
            "ticks": ""
           },
           "bgcolor": "#E5ECF6",
           "radialaxis": {
            "gridcolor": "white",
            "linecolor": "white",
            "ticks": ""
           }
          },
          "scene": {
           "xaxis": {
            "backgroundcolor": "#E5ECF6",
            "gridcolor": "white",
            "gridwidth": 2,
            "linecolor": "white",
            "showbackground": true,
            "ticks": "",
            "zerolinecolor": "white"
           },
           "yaxis": {
            "backgroundcolor": "#E5ECF6",
            "gridcolor": "white",
            "gridwidth": 2,
            "linecolor": "white",
            "showbackground": true,
            "ticks": "",
            "zerolinecolor": "white"
           },
           "zaxis": {
            "backgroundcolor": "#E5ECF6",
            "gridcolor": "white",
            "gridwidth": 2,
            "linecolor": "white",
            "showbackground": true,
            "ticks": "",
            "zerolinecolor": "white"
           }
          },
          "shapedefaults": {
           "line": {
            "color": "#2a3f5f"
           }
          },
          "ternary": {
           "aaxis": {
            "gridcolor": "white",
            "linecolor": "white",
            "ticks": ""
           },
           "baxis": {
            "gridcolor": "white",
            "linecolor": "white",
            "ticks": ""
           },
           "bgcolor": "#E5ECF6",
           "caxis": {
            "gridcolor": "white",
            "linecolor": "white",
            "ticks": ""
           }
          },
          "title": {
           "x": 0.05
          },
          "xaxis": {
           "automargin": true,
           "gridcolor": "white",
           "linecolor": "white",
           "ticks": "",
           "title": {
            "standoff": 15
           },
           "zerolinecolor": "white",
           "zerolinewidth": 2
          },
          "yaxis": {
           "automargin": true,
           "gridcolor": "white",
           "linecolor": "white",
           "ticks": "",
           "title": {
            "standoff": 15
           },
           "zerolinecolor": "white",
           "zerolinewidth": 2
          }
         }
        },
        "xaxis": {
         "title": {
          "text": "Date"
         }
        },
        "yaxis": {
         "title": {
          "text": "Avocado Volume"
         }
        }
       }
      },
      "text/html": [
       "<div>                            <div id=\"8c1dbffb-fd49-4642-ace8-3e4ee92f97ae\" class=\"plotly-graph-div\" style=\"height:525px; width:100%;\"></div>            <script type=\"text/javascript\">                require([\"plotly\"], function(Plotly) {                    window.PLOTLYENV=window.PLOTLYENV || {};                                    if (document.getElementById(\"8c1dbffb-fd49-4642-ace8-3e4ee92f97ae\")) {                    Plotly.newPlot(                        \"8c1dbffb-fd49-4642-ace8-3e4ee92f97ae\",                        [{\"name\":\"Total Volume\",\"type\":\"scatter\",\"x\":[\"2015-01-04\",\"2015-01-11\",\"2015-01-18\",\"2015-01-25\",\"2015-02-01\",\"2015-02-08\",\"2015-02-15\",\"2015-02-22\",\"2015-03-01\",\"2015-03-08\",\"2015-03-15\",\"2015-03-22\",\"2015-03-29\",\"2015-04-05\",\"2015-04-12\",\"2015-04-19\",\"2015-04-26\",\"2015-05-03\",\"2015-05-10\",\"2015-05-17\",\"2015-05-24\",\"2015-05-31\",\"2015-06-07\",\"2015-06-14\",\"2015-06-21\",\"2015-06-28\",\"2015-07-05\",\"2015-07-12\",\"2015-07-19\",\"2015-07-26\",\"2015-08-02\",\"2015-08-09\",\"2015-08-16\",\"2015-08-23\",\"2015-08-30\",\"2015-09-06\",\"2015-09-13\",\"2015-09-20\",\"2015-09-27\",\"2015-10-04\",\"2015-10-11\",\"2015-10-18\",\"2015-10-25\",\"2015-11-01\",\"2015-11-08\",\"2015-11-15\",\"2015-11-22\",\"2015-11-29\",\"2015-12-06\",\"2015-12-13\",\"2015-12-20\",\"2015-12-27\",\"2016-01-03\",\"2016-01-10\",\"2016-01-17\",\"2016-01-24\",\"2016-01-31\",\"2016-02-07\",\"2016-02-14\",\"2016-02-21\",\"2016-02-28\",\"2016-03-06\",\"2016-03-13\",\"2016-03-20\",\"2016-03-27\",\"2016-04-03\",\"2016-04-10\",\"2016-04-17\",\"2016-04-24\",\"2016-05-01\",\"2016-05-08\",\"2016-05-15\",\"2016-05-22\",\"2016-05-29\",\"2016-06-05\",\"2016-06-12\",\"2016-06-19\",\"2016-06-26\",\"2016-07-03\",\"2016-07-10\",\"2016-07-17\",\"2016-07-24\",\"2016-07-31\",\"2016-08-07\",\"2016-08-14\",\"2016-08-21\",\"2016-08-28\",\"2016-09-04\",\"2016-09-11\",\"2016-09-18\",\"2016-09-25\",\"2016-10-02\",\"2016-10-09\",\"2016-10-16\",\"2016-10-23\",\"2016-10-30\",\"2016-11-06\",\"2016-11-13\",\"2016-11-20\",\"2016-11-27\",\"2016-12-04\",\"2016-12-11\",\"2016-12-18\",\"2016-12-25\",\"2017-01-01\",\"2017-01-08\",\"2017-01-15\",\"2017-01-22\",\"2017-01-29\",\"2017-02-05\",\"2017-02-12\",\"2017-02-19\",\"2017-02-26\",\"2017-03-05\",\"2017-03-12\",\"2017-03-19\",\"2017-03-26\",\"2017-04-02\",\"2017-04-09\",\"2017-04-16\",\"2017-04-23\",\"2017-04-30\",\"2017-05-07\",\"2017-05-14\",\"2017-05-21\",\"2017-05-28\",\"2017-06-04\",\"2017-06-11\",\"2017-06-18\",\"2017-06-25\",\"2017-07-02\",\"2017-07-09\",\"2017-07-16\",\"2017-07-23\",\"2017-07-30\",\"2017-08-06\",\"2017-08-13\",\"2017-08-20\",\"2017-08-27\",\"2017-09-03\",\"2017-09-10\",\"2017-09-17\",\"2017-09-24\",\"2017-10-01\",\"2017-10-08\",\"2017-10-15\",\"2017-10-22\",\"2017-10-29\",\"2017-11-05\",\"2017-11-12\",\"2017-11-19\",\"2017-11-26\",\"2017-12-03\",\"2017-12-10\",\"2017-12-17\",\"2017-12-24\",\"2017-12-31\",\"2018-01-07\",\"2018-01-14\",\"2018-01-21\",\"2018-01-28\",\"2018-02-04\",\"2018-02-11\",\"2018-02-18\",\"2018-02-25\",\"2018-03-04\",\"2018-03-11\",\"2018-03-18\",\"2018-03-25\"],\"y\":[84674337.19999994,78555807.24000001,78388784.08000004,76466281.06999992,119453235.24999994,86671106.19999997,75637163.02999996,80876094.75000004,89434843.26000006,81281673.68,79676823.58000006,87346316.96999997,80843412.28000002,84743083.13999997,86410695.20000002,89176294.86000001,83814321.94999997,111791841.88000003,98873860.94999993,86376992.96000001,95346225.93999997,91395123.06,98458280.60000004,99753684.25000004,96342128.02999997,87272650.83000001,102096973.48999998,85157946.29999995,87136612.91000001,82310339.92999996,81918931.54000008,90062660.00999998,86277787.15000007,80316476.07999992,80668960.04000004,90281613.67000002,84304386.0000001,79719906.47000003,74912926.90999997,76303428.38,78747748.72999994,79840731.52000003,70884202.38999997,84649651.21999998,77453080.48000003,77571499.64999999,68287415.46000001,61478389.58000003,78046589.30000001,76138429.29000002,68033909.44999991,73807003.85,102877751.64000003,95721014.89999995,93191639.16999997,89604944.14,94010415.73000002,140490203.55999988,99093417.32000005,89041701.42999998,100020479.66999994,95552818.52999997,98976415.91000003,99038657.8,97644516.04000004,91599118.68,100018260.80000004,101486447.03000003,108728925.27999997,117282901.19000004,126105077.55,108313421.96000005,100630740.9,108898388.97000003,109265949.86999997,96730957.22000004,104560013.89999993,99771233.08999999,108538389.02999997,96812968.16000003,88948059.21999995,87954827.79000002,85021100.03000005,92237038.48000002,93969046.72999997,91842161.95,92748719.82,101068242.81999998,93593312.25000004,85043719.64999996,82598000.76,80911801.61000003,78861094.66,75891937.64000002,67376301.67000002,57160668.69999998,61805515.389999986,66194995.41,69054331.99999996,63154493.899999976,85850834.42000003,82299998.15999998,80731105.13,82565814.16999999,104448497.03999996,103435109.76000005,103836812.57999998,114737677.21000001,106874936.82000001,164405012.55999997,111793336.11000001,93821423.41999999,101447427.75,93528301.73000003,88180102.26,86991452.19000001,90203525.57000001,95078332.24,95532340.5,96967237.09000002,97520908.62999992,104715711.08000001,128924334.30000006,100860762.98999996,94357411.08000003,101588033.23999998,102610983.78999999,101592809.96000004,104514401.4,101692455.79999998,103261015.34000006,106952504.41999994,88670311.46000002,89361464.93000004,86658414.21000007,88623998.44999999,89365374.10000004,81779901.83000001,78563715.8,73669242.16999999,72704273.06999998,70063266.33000003,68342754.75999999,68116443.37,67810318.17000003,69569184.96000001,73958768.28000009,83323241.96000002,87805145.68999995,88398477.58000003,80103132.84999998,68212552.41000001,92510848.38,98084216.04999998,84587343.80999997,79997580.33000001,104152871.45999996,100797144.31,102027729.63999997,117087151.15000002,109795058.52000004,169177831.6900001,117577618.37000005,101791302.61999999,109231443.73999996,111844929.75999996,111465199.18000002,113673979.17999999,118268952.09999998]},{\"name\":\"Small Avocados\",\"type\":\"scatter\",\"x\":[\"2015-01-04\",\"2015-01-11\",\"2015-01-18\",\"2015-01-25\",\"2015-02-01\",\"2015-02-08\",\"2015-02-15\",\"2015-02-22\",\"2015-03-01\",\"2015-03-08\",\"2015-03-15\",\"2015-03-22\",\"2015-03-29\",\"2015-04-05\",\"2015-04-12\",\"2015-04-19\",\"2015-04-26\",\"2015-05-03\",\"2015-05-10\",\"2015-05-17\",\"2015-05-24\",\"2015-05-31\",\"2015-06-07\",\"2015-06-14\",\"2015-06-21\",\"2015-06-28\",\"2015-07-05\",\"2015-07-12\",\"2015-07-19\",\"2015-07-26\",\"2015-08-02\",\"2015-08-09\",\"2015-08-16\",\"2015-08-23\",\"2015-08-30\",\"2015-09-06\",\"2015-09-13\",\"2015-09-20\",\"2015-09-27\",\"2015-10-04\",\"2015-10-11\",\"2015-10-18\",\"2015-10-25\",\"2015-11-01\",\"2015-11-08\",\"2015-11-15\",\"2015-11-22\",\"2015-11-29\",\"2015-12-06\",\"2015-12-13\",\"2015-12-20\",\"2015-12-27\",\"2016-01-03\",\"2016-01-10\",\"2016-01-17\",\"2016-01-24\",\"2016-01-31\",\"2016-02-07\",\"2016-02-14\",\"2016-02-21\",\"2016-02-28\",\"2016-03-06\",\"2016-03-13\",\"2016-03-20\",\"2016-03-27\",\"2016-04-03\",\"2016-04-10\",\"2016-04-17\",\"2016-04-24\",\"2016-05-01\",\"2016-05-08\",\"2016-05-15\",\"2016-05-22\",\"2016-05-29\",\"2016-06-05\",\"2016-06-12\",\"2016-06-19\",\"2016-06-26\",\"2016-07-03\",\"2016-07-10\",\"2016-07-17\",\"2016-07-24\",\"2016-07-31\",\"2016-08-07\",\"2016-08-14\",\"2016-08-21\",\"2016-08-28\",\"2016-09-04\",\"2016-09-11\",\"2016-09-18\",\"2016-09-25\",\"2016-10-02\",\"2016-10-09\",\"2016-10-16\",\"2016-10-23\",\"2016-10-30\",\"2016-11-06\",\"2016-11-13\",\"2016-11-20\",\"2016-11-27\",\"2016-12-04\",\"2016-12-11\",\"2016-12-18\",\"2016-12-25\",\"2017-01-01\",\"2017-01-08\",\"2017-01-15\",\"2017-01-22\",\"2017-01-29\",\"2017-02-05\",\"2017-02-12\",\"2017-02-19\",\"2017-02-26\",\"2017-03-05\",\"2017-03-12\",\"2017-03-19\",\"2017-03-26\",\"2017-04-02\",\"2017-04-09\",\"2017-04-16\",\"2017-04-23\",\"2017-04-30\",\"2017-05-07\",\"2017-05-14\",\"2017-05-21\",\"2017-05-28\",\"2017-06-04\",\"2017-06-11\",\"2017-06-18\",\"2017-06-25\",\"2017-07-02\",\"2017-07-09\",\"2017-07-16\",\"2017-07-23\",\"2017-07-30\",\"2017-08-06\",\"2017-08-13\",\"2017-08-20\",\"2017-08-27\",\"2017-09-03\",\"2017-09-10\",\"2017-09-17\",\"2017-09-24\",\"2017-10-01\",\"2017-10-08\",\"2017-10-15\",\"2017-10-22\",\"2017-10-29\",\"2017-11-05\",\"2017-11-12\",\"2017-11-19\",\"2017-11-26\",\"2017-12-03\",\"2017-12-10\",\"2017-12-17\",\"2017-12-24\",\"2017-12-31\",\"2018-01-07\",\"2018-01-14\",\"2018-01-21\",\"2018-01-28\",\"2018-02-04\",\"2018-02-11\",\"2018-02-18\",\"2018-02-25\",\"2018-03-04\",\"2018-03-11\",\"2018-03-18\",\"2018-03-25\"],\"y\":[33098258.74,31024164.99,31802706.859999996,32305132.87,50292988.95999999,35120949.73000002,33814337.229999974,33938222.64,35913457.05,34733696.39999997,35104196.089999974,36251254.44000002,33297870.220000003,36979793.17,38953641.750000015,37777316.67000001,36870507.54999998,47741032.199999996,43130083.83,38615627.18999998,42454302.29,41296142.449999996,43839309.22999998,43516973.73000002,39180569.120000005,35340108.23000001,41726922.789999984,32826891.999999993,33987014.859999985,32488410.21000001,32314563.72999999,34877700.02000002,33783524.39000001,30008296.819999997,31183767.450000003,33438709.919999998,26106277.319999997,25058076.76000001,22438437.08,22104999.449999988,23329872.25,24478025.68,22956928.11,27090603.340000004,26807044.390000015,26444329.879999988,22710092.529999997,21457105.089999996,24958083.029999994,25990264.350000005,23014715.97,25476680.29,30490337.09,30071302.830000002,26240144.91,18716256.62,28859317.0,43082575.18999998,30956277.43999999,26108984.619999994,31057051.359999992,30774900.419999998,30235548.120000005,29021238.17,29417077.139999997,29536320.709999993,33685076.860000014,31170212.139999997,33868962.93000001,36302845.84999999,37035618.93000001,32559193.01,30408870.960000005,35592746.249999985,36121805.029999994,32296608.210000005,35470812.09,32037322.68,33104579.539999995,30194101.750000007,27210365.020000003,27287945.42999999,26782287.269999985,32124173.54,32463914.340000015,33546249.07999998,33012755.150000017,38467199.65000001,34242584.96,29565079.029999994,27801230.790000007,25166917.609999996,24995832.689999998,23156495.199999988,19938216.93,18434207.349999998,20298843.19,21666493.550000004,22596020.619999997,20873659.200000003,28787689.280000024,23429918.930000003,24570005.080000002,24288720.560000006,32682960.869999994,30651620.250000007,33705482.23999999,37479734.870000005,36693809.82000001,58969251.95000001,39479900.76000002,29883162.43000002,34271061.81999998,29651260.999999993,29272112.52,28820877.34,30777835.280000005,32068219.379999995,31525592.340000007,32353812.7,31928699.729999997,35118527.19000001,44607547.56,33695497.55,31894149.45000001,33786070.99000002,34827747.480000004,35371549.389999986,34174905.149999976,33909887.440000005,33215380.820000004,34109742.46,29444903.18999999,30155295.229999993,29341806.71,29833638.979999993,28965880.069999993,27802710.84,28106228.440000013,25817778.259999998,25104614.909999993,24168736.81,22887412.780000016,21996344.02,23487108.42,23117274.419999998,25313510.289999995,27955291.889999997,29084338.090000007,30285309.220000003,29329966.229999993,24201845.280000005,30891382.09,31276496.640000004,28026060.919999998,26345567.679999996,34172229.32999997,35857619.999999985,32930319.24999999,37148000.08999998,37788613.24,56552857.68,41542374.940000005,35159360.919999994,36101449.620000005,37680590.599999994,37014593.27999999,35938794.17000001,36785160.30999997]},{\"name\":\"Medium Avocados\",\"type\":\"scatter\",\"x\":[\"2015-01-04\",\"2015-01-11\",\"2015-01-18\",\"2015-01-25\",\"2015-02-01\",\"2015-02-08\",\"2015-02-15\",\"2015-02-22\",\"2015-03-01\",\"2015-03-08\",\"2015-03-15\",\"2015-03-22\",\"2015-03-29\",\"2015-04-05\",\"2015-04-12\",\"2015-04-19\",\"2015-04-26\",\"2015-05-03\",\"2015-05-10\",\"2015-05-17\",\"2015-05-24\",\"2015-05-31\",\"2015-06-07\",\"2015-06-14\",\"2015-06-21\",\"2015-06-28\",\"2015-07-05\",\"2015-07-12\",\"2015-07-19\",\"2015-07-26\",\"2015-08-02\",\"2015-08-09\",\"2015-08-16\",\"2015-08-23\",\"2015-08-30\",\"2015-09-06\",\"2015-09-13\",\"2015-09-20\",\"2015-09-27\",\"2015-10-04\",\"2015-10-11\",\"2015-10-18\",\"2015-10-25\",\"2015-11-01\",\"2015-11-08\",\"2015-11-15\",\"2015-11-22\",\"2015-11-29\",\"2015-12-06\",\"2015-12-13\",\"2015-12-20\",\"2015-12-27\",\"2016-01-03\",\"2016-01-10\",\"2016-01-17\",\"2016-01-24\",\"2016-01-31\",\"2016-02-07\",\"2016-02-14\",\"2016-02-21\",\"2016-02-28\",\"2016-03-06\",\"2016-03-13\",\"2016-03-20\",\"2016-03-27\",\"2016-04-03\",\"2016-04-10\",\"2016-04-17\",\"2016-04-24\",\"2016-05-01\",\"2016-05-08\",\"2016-05-15\",\"2016-05-22\",\"2016-05-29\",\"2016-06-05\",\"2016-06-12\",\"2016-06-19\",\"2016-06-26\",\"2016-07-03\",\"2016-07-10\",\"2016-07-17\",\"2016-07-24\",\"2016-07-31\",\"2016-08-07\",\"2016-08-14\",\"2016-08-21\",\"2016-08-28\",\"2016-09-04\",\"2016-09-11\",\"2016-09-18\",\"2016-09-25\",\"2016-10-02\",\"2016-10-09\",\"2016-10-16\",\"2016-10-23\",\"2016-10-30\",\"2016-11-06\",\"2016-11-13\",\"2016-11-20\",\"2016-11-27\",\"2016-12-04\",\"2016-12-11\",\"2016-12-18\",\"2016-12-25\",\"2017-01-01\",\"2017-01-08\",\"2017-01-15\",\"2017-01-22\",\"2017-01-29\",\"2017-02-05\",\"2017-02-12\",\"2017-02-19\",\"2017-02-26\",\"2017-03-05\",\"2017-03-12\",\"2017-03-19\",\"2017-03-26\",\"2017-04-02\",\"2017-04-09\",\"2017-04-16\",\"2017-04-23\",\"2017-04-30\",\"2017-05-07\",\"2017-05-14\",\"2017-05-21\",\"2017-05-28\",\"2017-06-04\",\"2017-06-11\",\"2017-06-18\",\"2017-06-25\",\"2017-07-02\",\"2017-07-09\",\"2017-07-16\",\"2017-07-23\",\"2017-07-30\",\"2017-08-06\",\"2017-08-13\",\"2017-08-20\",\"2017-08-27\",\"2017-09-03\",\"2017-09-10\",\"2017-09-17\",\"2017-09-24\",\"2017-10-01\",\"2017-10-08\",\"2017-10-15\",\"2017-10-22\",\"2017-10-29\",\"2017-11-05\",\"2017-11-12\",\"2017-11-19\",\"2017-11-26\",\"2017-12-03\",\"2017-12-10\",\"2017-12-17\",\"2017-12-24\",\"2017-12-31\",\"2018-01-07\",\"2018-01-14\",\"2018-01-21\",\"2018-01-28\",\"2018-02-04\",\"2018-02-11\",\"2018-02-18\",\"2018-02-25\",\"2018-03-04\",\"2018-03-11\",\"2018-03-18\",\"2018-03-25\"],\"y\":[36851038.43000004,32808429.84,31662041.929999996,28929122.36999999,50696230.47999995,36424185.52000001,26515967.199999977,30699337.13000001,37219254.419999994,29824527.710000012,28841223.420000017,34501466.61000001,31522807.29000001,31322879.55,30925753.750000007,33509132.19000001,30019096.11,45065142.790000014,37233713.29999999,30128897.579999994,34184910.610000014,31945182.77,34388201.61999999,34989962.50000002,36152041.14,31455112.230000004,38505578.20999999,33589383.30000002,34227825.119999975,32375549.249999993,33257155.189999998,37917434.939999975,35387652.73000002,34220269.52000002,32738606.680000003,38491436.03000001,40498065.96000002,37500048.00000001,37517315.659999974,37462888.829999976,36151300.839999974,38639170.74999998,31060297.580000002,39120807.34999998,33403243.549999993,32070451.83,28553249.45,24720307.39,33066902.569999985,29483598.230000015,25560782.729999986,27719055.939999998,43307897.00000001,36007561.31000001,37785328.449999996,38241875.87000001,36274334.81999999,55331379.33000002,36283926.610000014,32881330.18999998,36466895.95000001,33616790.54,36168589.309999995,37742134.52000001,35059611.26000001,31925247.600000005,31985556.800000012,35164265.58999998,40006670.48000004,43955891.680000015,49535708.870000005,39889361.94999999,35915201.10000001,38384344.28999999,36802076.250000015,31794819.27000002,35165025.09000002,33258154.570000004,36178026.50000003,31794159.610000003,29075469.000000007,29476257.569999997,28445184.119999986,29356435.78000002,29981587.23,27297229.060000002,28744896.240000013,30498686.339999996,28775139.06,25929428.269999992,25414207.76999998,25166223.80999999,26461591.16999999,24414049.399999995,22243107.52999999,19237436.93999999,19747433.959999982,21465314.06000001,22332209.939999994,20372854.230000008,27236656.670000006,27561128.399999987,28544890.370000005,28028706.269999996,38479242.21000004,38014639.97000002,34420771.87999999,38849261.200000025,32033480.39999999,55474222.68000001,33516544.249999993,29335495.680000015,31470347.42,30128640.579999983,26544710.589999996,26816160.729999997,26747822.39,27158137.830000017,29830630.199999988,28064069.109999996,28315279.719999995,31336672.839999992,37371731.16000001,26975278.82999999,28320036.57999999,30153530.830000002,28212102.95,27913496.020000014,31059820.03999999,29820408.33999999,30045377.299999993,30302408.199999988,30529600.78999999,30953214.270000007,30110758.650000002,29728211.81,30125724.460000005,24131982.76999998,23549249.199999996,23611159.240000002,23071843.62999999,23020598.02,22994893.540000003,23121182.08999999,21176098.62,23625203.8,24207624.229999997,27080607.230000008,26895859.369999994,27456130.490000002,21648391.92000001,20252779.860000003,29980600.55,32490020.6,27561624.43,24659548.950000003,36041491.079999976,29725692.530000005,32503117.529999997,38526171.50999999,33813928.230000004,56223802.580000035,32041343.78000001,30096038.049999997,28851825.03000001,31640490.619999986,30127345.96000001,30868435.840000004,33340482.619999986]},{\"name\":\"Large Avocados\",\"type\":\"scatter\",\"x\":[\"2015-01-04\",\"2015-01-11\",\"2015-01-18\",\"2015-01-25\",\"2015-02-01\",\"2015-02-08\",\"2015-02-15\",\"2015-02-22\",\"2015-03-01\",\"2015-03-08\",\"2015-03-15\",\"2015-03-22\",\"2015-03-29\",\"2015-04-05\",\"2015-04-12\",\"2015-04-19\",\"2015-04-26\",\"2015-05-03\",\"2015-05-10\",\"2015-05-17\",\"2015-05-24\",\"2015-05-31\",\"2015-06-07\",\"2015-06-14\",\"2015-06-21\",\"2015-06-28\",\"2015-07-05\",\"2015-07-12\",\"2015-07-19\",\"2015-07-26\",\"2015-08-02\",\"2015-08-09\",\"2015-08-16\",\"2015-08-23\",\"2015-08-30\",\"2015-09-06\",\"2015-09-13\",\"2015-09-20\",\"2015-09-27\",\"2015-10-04\",\"2015-10-11\",\"2015-10-18\",\"2015-10-25\",\"2015-11-01\",\"2015-11-08\",\"2015-11-15\",\"2015-11-22\",\"2015-11-29\",\"2015-12-06\",\"2015-12-13\",\"2015-12-20\",\"2015-12-27\",\"2016-01-03\",\"2016-01-10\",\"2016-01-17\",\"2016-01-24\",\"2016-01-31\",\"2016-02-07\",\"2016-02-14\",\"2016-02-21\",\"2016-02-28\",\"2016-03-06\",\"2016-03-13\",\"2016-03-20\",\"2016-03-27\",\"2016-04-03\",\"2016-04-10\",\"2016-04-17\",\"2016-04-24\",\"2016-05-01\",\"2016-05-08\",\"2016-05-15\",\"2016-05-22\",\"2016-05-29\",\"2016-06-05\",\"2016-06-12\",\"2016-06-19\",\"2016-06-26\",\"2016-07-03\",\"2016-07-10\",\"2016-07-17\",\"2016-07-24\",\"2016-07-31\",\"2016-08-07\",\"2016-08-14\",\"2016-08-21\",\"2016-08-28\",\"2016-09-04\",\"2016-09-11\",\"2016-09-18\",\"2016-09-25\",\"2016-10-02\",\"2016-10-09\",\"2016-10-16\",\"2016-10-23\",\"2016-10-30\",\"2016-11-06\",\"2016-11-13\",\"2016-11-20\",\"2016-11-27\",\"2016-12-04\",\"2016-12-11\",\"2016-12-18\",\"2016-12-25\",\"2017-01-01\",\"2017-01-08\",\"2017-01-15\",\"2017-01-22\",\"2017-01-29\",\"2017-02-05\",\"2017-02-12\",\"2017-02-19\",\"2017-02-26\",\"2017-03-05\",\"2017-03-12\",\"2017-03-19\",\"2017-03-26\",\"2017-04-02\",\"2017-04-09\",\"2017-04-16\",\"2017-04-23\",\"2017-04-30\",\"2017-05-07\",\"2017-05-14\",\"2017-05-21\",\"2017-05-28\",\"2017-06-04\",\"2017-06-11\",\"2017-06-18\",\"2017-06-25\",\"2017-07-02\",\"2017-07-09\",\"2017-07-16\",\"2017-07-23\",\"2017-07-30\",\"2017-08-06\",\"2017-08-13\",\"2017-08-20\",\"2017-08-27\",\"2017-09-03\",\"2017-09-10\",\"2017-09-17\",\"2017-09-24\",\"2017-10-01\",\"2017-10-08\",\"2017-10-15\",\"2017-10-22\",\"2017-10-29\",\"2017-11-05\",\"2017-11-12\",\"2017-11-19\",\"2017-11-26\",\"2017-12-03\",\"2017-12-10\",\"2017-12-17\",\"2017-12-24\",\"2017-12-31\",\"2018-01-07\",\"2018-01-14\",\"2018-01-21\",\"2018-01-28\",\"2018-02-04\",\"2018-02-11\",\"2018-02-18\",\"2018-02-25\",\"2018-03-04\",\"2018-03-11\",\"2018-03-18\",\"2018-03-25\"],\"y\":[2278818.639999999,2349167.45,2208250.5500000003,2078378.8600000006,3687489.309999999,1998391.5799999994,2256356.829999999,2521101.4099999997,2866788.86,2241036.96,2328435.6400000006,2842666.3499999996,2178292.2500000005,2318916.3000000003,2143869.5700000003,2682317.7300000014,2383140.43,3035870.1499999994,2326586.330000001,2648090.9199999995,2440114.7299999995,2467988.360000001,3039774.769999999,2889489.3999999994,3499684.750000001,2771477.6900000004,3558117.940000001,2638564.2399999984,3076013.349999999,2699681.5,2615050.249999999,2715513.6899999995,3070379.479999999,2467084.2999999993,2847681.6900000004,3068803.0900000003,3036147.06,3016181.6200000006,2869834.1999999997,3236550.8999999985,4284398.079999999,3259761.9599999986,3199084.24,3781606.4899999998,3056987.7100000004,2194575.1500000004,2153527.5799999996,1956433.52,2494071.6799999997,2707256.9000000004,3165362.659999999,3121229.45,4187629.960000001,3416833.2399999993,3788142.2200000016,3852486.09,4311724.8599999985,6606256.379999999,4749015.26,3604624.87,4121328.2299999986,4409335.47,4664406.79,4609563.0600000005,4889480.620000003,4509515.670000001,4383366.179999999,4956130.250000002,4226198.320000002,3766472.5799999996,5293116.8,4581013.140000001,4401439.35,4284619.249999999,4761419.700000001,4312029.93,4375357.030000001,4322303.84,4653806.210000001,3377133.449999999,2569959.91,2552844.7500000005,2125820.3299999996,2058887.6500000001,2026752.4800000002,1644789.7500000005,1549851.0500000003,1476137.84,1402739.51,1337187.3400000003,1366106.6700000006,1360157.3899999997,1355233.2200000007,1234862.4499999995,1251812.94,1263956.1600000004,1409232.16,1328973.5300000003,1131986.1399999994,959205.8999999997,1185870.7599999998,1135176.7500000002,1202256.75,1535294.8300000003,1522622.47,1512371.1500000004,1639205.9800000007,2573672.1300000004,2250766.479999999,4563719.239999999,2328432.1700000004,2218119.44,2385237.7999999993,2149182.8800000004,1969157.46,1742866.8999999997,1669451.27,1700840.5300000003,1775085.4299999995,1781130.45,1677915.7799999998,1831324.21,2340720.1499999994,1791320.1599999997,1701734.3199999996,1828345.0799999996,1811392.0300000005,1754606.0900000003,2150868.3700000006,1774384.4800000002,2292698.78,2184282.12,2040781.7000000002,1675597.4600000002,1631641.1699999997,1808045.8600000003,1716102.4500000002,1594299.4100000001,1425321.7699999996,1486754.2900000003,1341793.6200000006,1145048.9800000002,1036294.3799999995,1051230.6099999999,1080676.1599999997,1091739.9100000006,1132537.4299999995,1174424.1099999996,1099217.77,1151166.68,1144090.8000000003,1050491.52,1561070.46,1095858.05,1542922.5799999998,1487550.0300000005,1731397.23,1838895.0700000003,1781474.56,2464241.0000000005,1570133.69,2801523.520000001,1775129.0199999996,1512338.2099999997,1937291.3499999999,1546057.5299999998,1906686.2,1754038.3899999997,2044786.2500000007]}],                        {\"template\":{\"data\":{\"bar\":[{\"error_x\":{\"color\":\"#2a3f5f\"},\"error_y\":{\"color\":\"#2a3f5f\"},\"marker\":{\"line\":{\"color\":\"#E5ECF6\",\"width\":0.5},\"pattern\":{\"fillmode\":\"overlay\",\"size\":10,\"solidity\":0.2}},\"type\":\"bar\"}],\"barpolar\":[{\"marker\":{\"line\":{\"color\":\"#E5ECF6\",\"width\":0.5},\"pattern\":{\"fillmode\":\"overlay\",\"size\":10,\"solidity\":0.2}},\"type\":\"barpolar\"}],\"carpet\":[{\"aaxis\":{\"endlinecolor\":\"#2a3f5f\",\"gridcolor\":\"white\",\"linecolor\":\"white\",\"minorgridcolor\":\"white\",\"startlinecolor\":\"#2a3f5f\"},\"baxis\":{\"endlinecolor\":\"#2a3f5f\",\"gridcolor\":\"white\",\"linecolor\":\"white\",\"minorgridcolor\":\"white\",\"startlinecolor\":\"#2a3f5f\"},\"type\":\"carpet\"}],\"choropleth\":[{\"colorbar\":{\"outlinewidth\":0,\"ticks\":\"\"},\"type\":\"choropleth\"}],\"contour\":[{\"colorbar\":{\"outlinewidth\":0,\"ticks\":\"\"},\"colorscale\":[[0.0,\"#0d0887\"],[0.1111111111111111,\"#46039f\"],[0.2222222222222222,\"#7201a8\"],[0.3333333333333333,\"#9c179e\"],[0.4444444444444444,\"#bd3786\"],[0.5555555555555556,\"#d8576b\"],[0.6666666666666666,\"#ed7953\"],[0.7777777777777778,\"#fb9f3a\"],[0.8888888888888888,\"#fdca26\"],[1.0,\"#f0f921\"]],\"type\":\"contour\"}],\"contourcarpet\":[{\"colorbar\":{\"outlinewidth\":0,\"ticks\":\"\"},\"type\":\"contourcarpet\"}],\"heatmap\":[{\"colorbar\":{\"outlinewidth\":0,\"ticks\":\"\"},\"colorscale\":[[0.0,\"#0d0887\"],[0.1111111111111111,\"#46039f\"],[0.2222222222222222,\"#7201a8\"],[0.3333333333333333,\"#9c179e\"],[0.4444444444444444,\"#bd3786\"],[0.5555555555555556,\"#d8576b\"],[0.6666666666666666,\"#ed7953\"],[0.7777777777777778,\"#fb9f3a\"],[0.8888888888888888,\"#fdca26\"],[1.0,\"#f0f921\"]],\"type\":\"heatmap\"}],\"heatmapgl\":[{\"colorbar\":{\"outlinewidth\":0,\"ticks\":\"\"},\"colorscale\":[[0.0,\"#0d0887\"],[0.1111111111111111,\"#46039f\"],[0.2222222222222222,\"#7201a8\"],[0.3333333333333333,\"#9c179e\"],[0.4444444444444444,\"#bd3786\"],[0.5555555555555556,\"#d8576b\"],[0.6666666666666666,\"#ed7953\"],[0.7777777777777778,\"#fb9f3a\"],[0.8888888888888888,\"#fdca26\"],[1.0,\"#f0f921\"]],\"type\":\"heatmapgl\"}],\"histogram\":[{\"marker\":{\"pattern\":{\"fillmode\":\"overlay\",\"size\":10,\"solidity\":0.2}},\"type\":\"histogram\"}],\"histogram2d\":[{\"colorbar\":{\"outlinewidth\":0,\"ticks\":\"\"},\"colorscale\":[[0.0,\"#0d0887\"],[0.1111111111111111,\"#46039f\"],[0.2222222222222222,\"#7201a8\"],[0.3333333333333333,\"#9c179e\"],[0.4444444444444444,\"#bd3786\"],[0.5555555555555556,\"#d8576b\"],[0.6666666666666666,\"#ed7953\"],[0.7777777777777778,\"#fb9f3a\"],[0.8888888888888888,\"#fdca26\"],[1.0,\"#f0f921\"]],\"type\":\"histogram2d\"}],\"histogram2dcontour\":[{\"colorbar\":{\"outlinewidth\":0,\"ticks\":\"\"},\"colorscale\":[[0.0,\"#0d0887\"],[0.1111111111111111,\"#46039f\"],[0.2222222222222222,\"#7201a8\"],[0.3333333333333333,\"#9c179e\"],[0.4444444444444444,\"#bd3786\"],[0.5555555555555556,\"#d8576b\"],[0.6666666666666666,\"#ed7953\"],[0.7777777777777778,\"#fb9f3a\"],[0.8888888888888888,\"#fdca26\"],[1.0,\"#f0f921\"]],\"type\":\"histogram2dcontour\"}],\"mesh3d\":[{\"colorbar\":{\"outlinewidth\":0,\"ticks\":\"\"},\"type\":\"mesh3d\"}],\"parcoords\":[{\"line\":{\"colorbar\":{\"outlinewidth\":0,\"ticks\":\"\"}},\"type\":\"parcoords\"}],\"pie\":[{\"automargin\":true,\"type\":\"pie\"}],\"scatter\":[{\"marker\":{\"colorbar\":{\"outlinewidth\":0,\"ticks\":\"\"}},\"type\":\"scatter\"}],\"scatter3d\":[{\"line\":{\"colorbar\":{\"outlinewidth\":0,\"ticks\":\"\"}},\"marker\":{\"colorbar\":{\"outlinewidth\":0,\"ticks\":\"\"}},\"type\":\"scatter3d\"}],\"scattercarpet\":[{\"marker\":{\"colorbar\":{\"outlinewidth\":0,\"ticks\":\"\"}},\"type\":\"scattercarpet\"}],\"scattergeo\":[{\"marker\":{\"colorbar\":{\"outlinewidth\":0,\"ticks\":\"\"}},\"type\":\"scattergeo\"}],\"scattergl\":[{\"marker\":{\"colorbar\":{\"outlinewidth\":0,\"ticks\":\"\"}},\"type\":\"scattergl\"}],\"scattermapbox\":[{\"marker\":{\"colorbar\":{\"outlinewidth\":0,\"ticks\":\"\"}},\"type\":\"scattermapbox\"}],\"scatterpolar\":[{\"marker\":{\"colorbar\":{\"outlinewidth\":0,\"ticks\":\"\"}},\"type\":\"scatterpolar\"}],\"scatterpolargl\":[{\"marker\":{\"colorbar\":{\"outlinewidth\":0,\"ticks\":\"\"}},\"type\":\"scatterpolargl\"}],\"scatterternary\":[{\"marker\":{\"colorbar\":{\"outlinewidth\":0,\"ticks\":\"\"}},\"type\":\"scatterternary\"}],\"surface\":[{\"colorbar\":{\"outlinewidth\":0,\"ticks\":\"\"},\"colorscale\":[[0.0,\"#0d0887\"],[0.1111111111111111,\"#46039f\"],[0.2222222222222222,\"#7201a8\"],[0.3333333333333333,\"#9c179e\"],[0.4444444444444444,\"#bd3786\"],[0.5555555555555556,\"#d8576b\"],[0.6666666666666666,\"#ed7953\"],[0.7777777777777778,\"#fb9f3a\"],[0.8888888888888888,\"#fdca26\"],[1.0,\"#f0f921\"]],\"type\":\"surface\"}],\"table\":[{\"cells\":{\"fill\":{\"color\":\"#EBF0F8\"},\"line\":{\"color\":\"white\"}},\"header\":{\"fill\":{\"color\":\"#C8D4E3\"},\"line\":{\"color\":\"white\"}},\"type\":\"table\"}]},\"layout\":{\"annotationdefaults\":{\"arrowcolor\":\"#2a3f5f\",\"arrowhead\":0,\"arrowwidth\":1},\"autotypenumbers\":\"strict\",\"coloraxis\":{\"colorbar\":{\"outlinewidth\":0,\"ticks\":\"\"}},\"colorscale\":{\"diverging\":[[0,\"#8e0152\"],[0.1,\"#c51b7d\"],[0.2,\"#de77ae\"],[0.3,\"#f1b6da\"],[0.4,\"#fde0ef\"],[0.5,\"#f7f7f7\"],[0.6,\"#e6f5d0\"],[0.7,\"#b8e186\"],[0.8,\"#7fbc41\"],[0.9,\"#4d9221\"],[1,\"#276419\"]],\"sequential\":[[0.0,\"#0d0887\"],[0.1111111111111111,\"#46039f\"],[0.2222222222222222,\"#7201a8\"],[0.3333333333333333,\"#9c179e\"],[0.4444444444444444,\"#bd3786\"],[0.5555555555555556,\"#d8576b\"],[0.6666666666666666,\"#ed7953\"],[0.7777777777777778,\"#fb9f3a\"],[0.8888888888888888,\"#fdca26\"],[1.0,\"#f0f921\"]],\"sequentialminus\":[[0.0,\"#0d0887\"],[0.1111111111111111,\"#46039f\"],[0.2222222222222222,\"#7201a8\"],[0.3333333333333333,\"#9c179e\"],[0.4444444444444444,\"#bd3786\"],[0.5555555555555556,\"#d8576b\"],[0.6666666666666666,\"#ed7953\"],[0.7777777777777778,\"#fb9f3a\"],[0.8888888888888888,\"#fdca26\"],[1.0,\"#f0f921\"]]},\"colorway\":[\"#636efa\",\"#EF553B\",\"#00cc96\",\"#ab63fa\",\"#FFA15A\",\"#19d3f3\",\"#FF6692\",\"#B6E880\",\"#FF97FF\",\"#FECB52\"],\"font\":{\"color\":\"#2a3f5f\"},\"geo\":{\"bgcolor\":\"white\",\"lakecolor\":\"white\",\"landcolor\":\"#E5ECF6\",\"showlakes\":true,\"showland\":true,\"subunitcolor\":\"white\"},\"hoverlabel\":{\"align\":\"left\"},\"hovermode\":\"closest\",\"mapbox\":{\"style\":\"light\"},\"paper_bgcolor\":\"white\",\"plot_bgcolor\":\"#E5ECF6\",\"polar\":{\"angularaxis\":{\"gridcolor\":\"white\",\"linecolor\":\"white\",\"ticks\":\"\"},\"bgcolor\":\"#E5ECF6\",\"radialaxis\":{\"gridcolor\":\"white\",\"linecolor\":\"white\",\"ticks\":\"\"}},\"scene\":{\"xaxis\":{\"backgroundcolor\":\"#E5ECF6\",\"gridcolor\":\"white\",\"gridwidth\":2,\"linecolor\":\"white\",\"showbackground\":true,\"ticks\":\"\",\"zerolinecolor\":\"white\"},\"yaxis\":{\"backgroundcolor\":\"#E5ECF6\",\"gridcolor\":\"white\",\"gridwidth\":2,\"linecolor\":\"white\",\"showbackground\":true,\"ticks\":\"\",\"zerolinecolor\":\"white\"},\"zaxis\":{\"backgroundcolor\":\"#E5ECF6\",\"gridcolor\":\"white\",\"gridwidth\":2,\"linecolor\":\"white\",\"showbackground\":true,\"ticks\":\"\",\"zerolinecolor\":\"white\"}},\"shapedefaults\":{\"line\":{\"color\":\"#2a3f5f\"}},\"ternary\":{\"aaxis\":{\"gridcolor\":\"white\",\"linecolor\":\"white\",\"ticks\":\"\"},\"baxis\":{\"gridcolor\":\"white\",\"linecolor\":\"white\",\"ticks\":\"\"},\"bgcolor\":\"#E5ECF6\",\"caxis\":{\"gridcolor\":\"white\",\"linecolor\":\"white\",\"ticks\":\"\"}},\"title\":{\"x\":0.05},\"xaxis\":{\"automargin\":true,\"gridcolor\":\"white\",\"linecolor\":\"white\",\"ticks\":\"\",\"title\":{\"standoff\":15},\"zerolinecolor\":\"white\",\"zerolinewidth\":2},\"yaxis\":{\"automargin\":true,\"gridcolor\":\"white\",\"linecolor\":\"white\",\"ticks\":\"\",\"title\":{\"standoff\":15},\"zerolinecolor\":\"white\",\"zerolinewidth\":2}}},\"xaxis\":{\"title\":{\"text\":\"Date\"}},\"yaxis\":{\"title\":{\"text\":\"Avocado Volume\"}}},                        {\"responsive\": true}                    ).then(function(){\n",
       "                            \n",
       "var gd = document.getElementById('8c1dbffb-fd49-4642-ace8-3e4ee92f97ae');\n",
       "var x = new MutationObserver(function (mutations, observer) {{\n",
       "        var display = window.getComputedStyle(gd).display;\n",
       "        if (!display || display === 'none') {{\n",
       "            console.log([gd, 'removed!']);\n",
       "            Plotly.purge(gd);\n",
       "            observer.disconnect();\n",
       "        }}\n",
       "}});\n",
       "\n",
       "// Listen for the removal of the full notebook cells\n",
       "var notebookContainer = gd.closest('#notebook-container');\n",
       "if (notebookContainer) {{\n",
       "    x.observe(notebookContainer, {childList: true});\n",
       "}}\n",
       "\n",
       "// Listen for the clearing of the current output cell\n",
       "var outputEl = gd.closest('.output');\n",
       "if (outputEl) {{\n",
       "    x.observe(outputEl, {childList: true});\n",
       "}}\n",
       "\n",
       "                        })                };                });            </script>        </div>"
      ]
     },
     "metadata": {},
     "output_type": "display_data"
    }
   ],
   "source": [
    "line_plot = [{'x': vol_per_week['Date'],'y': vol_per_week[c],'name': c\n",
    "\n",
    "             } \n",
    "             for c in all_volumes]\n",
    "\n",
    "layout = {\n",
    "  'xaxis': {'title': 'Date'},\n",
    "  'yaxis': {'title': 'Avocado Volume'}\n",
    "}\n",
    "#go.Figure\n",
    "trend_link2 = go.Figure(data=line_plot, layout=layout)\n",
    "trend_link2.write_image(\"../img/trend_link2.png\")\n",
    "trend_link2"
   ]
  },
  {
   "cell_type": "markdown",
   "metadata": {},
   "source": [
    "## Mean Avocado Price Over Time"
   ]
  },
  {
   "cell_type": "code",
   "execution_count": 36,
   "metadata": {},
   "outputs": [
    {
     "data": {
      "image/png": "[encoded data removed]",
      "text/plain": [
       "<Figure size 1080x720 with 1 Axes>"
      ]
     },
     "metadata": {},
     "output_type": "display_data"
    }
   ],
   "source": [
    "# Price Distribution by Date\n",
    "date = data_sep.groupby('Date').mean()\n",
    "trend_link1a = plt.figure(figsize=(15,10))\n",
    "date['AveragePrice'].plot()\n",
    "plt.title('Avg Avocado Price Over Time')\n",
    "trend_link1a.savefig('../img/trend_link1a.jpg', bbox_inches='tight')"
   ]
  },
  {
   "cell_type": "markdown",
   "metadata": {},
   "source": [
    "## Mean Avocado Prices Per Month"
   ]
  },
  {
   "cell_type": "code",
   "execution_count": 37,
   "metadata": {
    "scrolled": false
   },
   "outputs": [
    {
     "data": {
      "image/png": "[encoded data removed]",
      "text/plain": [
       "<Figure size 1080x720 with 1 Axes>"
      ]
     },
     "metadata": {},
     "output_type": "display_data"
    }
   ],
   "source": [
    "# Price Distribution by Date\n",
    "date = data_sep.groupby('month').mean()\n",
    "trend_link1b=plt.figure(figsize=(15,10))\n",
    "date['AveragePrice'].plot()\n",
    "plt.title('Avg Avocado Price per Month')\n",
    "trend_link1b.savefig('../img/trend_link1b.jpg', bbox_inches='tight')"
   ]
  },
  {
   "cell_type": "markdown",
   "metadata": {},
   "source": [
    "# Seaborn Graphing"
   ]
  },
  {
   "cell_type": "code",
   "execution_count": null,
   "metadata": {},
   "outputs": [],
   "source": []
  },
  {
   "cell_type": "markdown",
   "metadata": {},
   "source": [
    "## Avocado Price Distribution"
   ]
  },
  {
   "cell_type": "code",
   "execution_count": 38,
   "metadata": {
    "scrolled": false
   },
   "outputs": [
    {
     "data": {
      "text/plain": [
       "Text(0.5, 1.0, 'Avocado Price Distribution')"
      ]
     },
     "execution_count": 38,
     "metadata": {},
     "output_type": "execute_result"
    },
    {
     "data": {
      "image/png": "[encoded data removed]",
      "text/plain": [
       "<Figure size 360x360 with 1 Axes>"
      ]
     },
     "metadata": {},
     "output_type": "display_data"
    }
   ],
   "source": [
    "ax = sns.displot(data[\"AveragePrice\"], color = 'blue')\n",
    "plt.title(\"Avocado Price Distribution\")"
   ]
  },
  {
   "cell_type": "markdown",
   "metadata": {},
   "source": [
    "## Average Price in Each Region by Type"
   ]
  },
  {
   "cell_type": "code",
   "execution_count": 39,
   "metadata": {},
   "outputs": [
    {
     "data": {
      "image/png": "[encoded data removed]",
      "text/plain": [
       "<Figure size 1440x1440 with 1 Axes>"
      ]
     },
     "metadata": {},
     "output_type": "display_data"
    }
   ],
   "source": [
    "sbn_link1 = plt.figure(figsize=(20,20))\n",
    "sns.set_style('whitegrid')\n",
    "sns.pointplot(x='AveragePrice',y='region',data=data, hue='type',join=False)\n",
    "\n",
    "\n",
    "plt.xticks(np.linspace(1,2,5))\n",
    "\n",
    "\n",
    "plt.ylabel('Regions',{'fontsize' : 'large'})\n",
    "plt.xlabel('Average Price',{'fontsize':'medium'})\n",
    "plt.title(\"Average Avocado Price in Each Region Over Time\",{'fontsize':20})\n",
    "sbn_link1.savefig('../img/sbn_link1.jpg', bbox_inches='tight')"
   ]
  },
  {
   "cell_type": "markdown",
   "metadata": {},
   "source": [
    "## Average Price in Each Region by Year"
   ]
  },
  {
   "cell_type": "code",
   "execution_count": 40,
   "metadata": {},
   "outputs": [
    {
     "data": {
      "image/png": "[encoded data removed]",
      "text/plain": [
       "<Figure size 1440x1440 with 1 Axes>"
      ]
     },
     "metadata": {},
     "output_type": "display_data"
    }
   ],
   "source": [
    "sbn_link2 = plt.figure(figsize=(20,20))\n",
    "sns.set_style('whitegrid')\n",
    "sns.pointplot(x='AveragePrice',y='region',data=data, hue='year',join=False)\n",
    "\n",
    "\n",
    "plt.xticks(np.linspace(1,2,5))\n",
    "\n",
    "\n",
    "plt.ylabel('Regions',{'fontsize' : 'large'})\n",
    "plt.xlabel('Average Price',{'fontsize':'medium'})\n",
    "plt.title(\"Average Avocado Price in Each Region Over Time\",{'fontsize':20})\n",
    "sbn_link2.savefig('../img/sbn_link2.jpg', bbox_inches='tight')"
   ]
  },
  {
   "cell_type": "code",
   "execution_count": 65,
   "metadata": {},
   "outputs": [
    {
     "data": {
      "text/plain": [
       "<bound method NDFrame.describe of        Column1  Date  AveragePrice  Total Volume  Small Avocados  \\\n",
       "0           51     1          1.22      40873.28         2819.50   \n",
       "1           51     1          1.00     435021.49       364302.39   \n",
       "2           51     1          1.08     788025.06        53987.31   \n",
       "3           51     1          1.01      80034.32        44562.12   \n",
       "4           51     1          1.02     491738.00         7193.87   \n",
       "...        ...   ...           ...           ...             ...   \n",
       "18244        0   169          1.04      14503.47           78.95   \n",
       "18245        0   169          1.41      10028.49          138.15   \n",
       "18246        0   169          1.55    1559967.20       121007.94   \n",
       "18247        0   169          1.60     271723.08        26996.28   \n",
       "18248        0   169          1.62      15303.40         2325.30   \n",
       "\n",
       "       Medium Avocados  Large Avocados  Total Bags  Small Bags  Large Bags  \\\n",
       "0             28287.42           49.90     9716.46     9186.93      529.53   \n",
       "1             23821.16           82.15    46815.79    16707.15    30108.64   \n",
       "2            552906.04        39995.03   141136.68   137146.07     3990.61   \n",
       "3             24964.23         2752.35     7755.62     6064.30     1691.32   \n",
       "4            396752.18          128.82    87663.13    87406.84      256.29   \n",
       "...                ...             ...         ...         ...         ...   \n",
       "18244           148.37            0.00    14276.15     9992.31     4283.84   \n",
       "18245           773.22            0.00     9117.12     8208.82      908.30   \n",
       "18246        342853.10         1070.24  1093861.09   902774.79   190941.84   \n",
       "18247         77861.39          117.56   166747.85    87108.00    79495.39   \n",
       "18248          2171.66            0.00    10806.44    10569.80      236.64   \n",
       "\n",
       "       XLarge Bags  type  year  region  \n",
       "0             0.00     1  2015       1  \n",
       "1             0.00     1  2015       2  \n",
       "2             0.00     1  2015       3  \n",
       "3             0.00     1  2015       4  \n",
       "4             0.00     1  2015       5  \n",
       "...            ...   ...   ...     ...  \n",
       "18244         0.00     2  2018      50  \n",
       "18245         0.00     2  2018      51  \n",
       "18246       144.46     2  2018      52  \n",
       "18247       144.46     2  2018      53  \n",
       "18248         0.00     2  2018      54  \n",
       "\n",
       "[18249 rows x 14 columns]>"
      ]
     },
     "execution_count": 65,
     "metadata": {},
     "output_type": "execute_result"
    }
   ],
   "source": [
    "data.describe"
   ]
  },
  {
   "cell_type": "markdown",
   "metadata": {},
   "source": [
    "## Conventional vs Organic Pricing Over Time"
   ]
  },
  {
   "cell_type": "code",
   "execution_count": 42,
   "metadata": {},
   "outputs": [
    {
     "data": {
      "image/png": "[encoded data removed]",
      "text/plain": [
       "<Figure size 1440x720 with 1 Axes>"
      ]
     },
     "metadata": {},
     "output_type": "display_data"
    }
   ],
   "source": [
    "sbn_link2a = plt.figure(figsize=(20,10))\n",
    "sns.lineplot(x=\"month\", y=\"AveragePrice\", hue='type', data=data_sep)\n",
    "plt.show()\n",
    "sbn_link2a.savefig('../img/sbn_link2a.jpg', bbox_inches='tight')"
   ]
  },
  {
   "cell_type": "code",
   "execution_count": 48,
   "metadata": {},
   "outputs": [],
   "source": [
    "# Objects to Integers\n",
    "for label, content in data_sep.items():\n",
    "    if pd.api.types.is_string_dtype(content):\n",
    "        data[label]  = pd.Categorical(content).codes+1"
   ]
  },
  {
   "cell_type": "code",
   "execution_count": null,
   "metadata": {
    "scrolled": true
   },
   "outputs": [],
   "source": []
  },
  {
   "cell_type": "markdown",
   "metadata": {},
   "source": [
    "# Linear Regression ##"
   ]
  },
  {
   "cell_type": "code",
   "execution_count": 49,
   "metadata": {},
   "outputs": [
    {
     "name": "stdout",
     "output_type": "stream",
     "text": [
      "(18249, 13) (18249,)\n"
     ]
    }
   ],
   "source": [
    "\n",
    "# Assign X (data) and y (target)\n",
    "X = data.drop(\"AveragePrice\", axis=1)\n",
    "y = data[\"AveragePrice\"]\n",
    "print(X.shape, y.shape)"
   ]
  },
  {
   "cell_type": "code",
   "execution_count": 50,
   "metadata": {},
   "outputs": [],
   "source": [
    "from sklearn.model_selection import train_test_split\n",
    "xtrain, xtest, ytrain, ytest = train_test_split(X, y, random_state=1)"
   ]
  },
  {
   "cell_type": "code",
   "execution_count": 51,
   "metadata": {},
   "outputs": [
    {
     "data": {
      "text/plain": [
       "0.44128461352997705"
      ]
     },
     "execution_count": 51,
     "metadata": {},
     "output_type": "execute_result"
    }
   ],
   "source": [
    "from sklearn.linear_model import LinearRegression\n",
    "linear=LinearRegression()\n",
    "linear.fit(xtrain,ytrain)\n",
    "lr_pred=linear.predict(xtest)\n",
    "linear.score(xtrain, ytrain)"
   ]
  },
  {
   "cell_type": "code",
   "execution_count": 53,
   "metadata": {
    "scrolled": false
   },
   "outputs": [
    {
     "data": {
      "text/plain": [
       "<matplotlib.collections.PathCollection at 0x17c76a24f70>"
      ]
     },
     "execution_count": 53,
     "metadata": {},
     "output_type": "execute_result"
    },
    {
     "data": {
      "image/png": "[encoded data removed]",
      "text/plain": [
       "<Figure size 432x288 with 1 Axes>"
      ]
     },
     "metadata": {},
     "output_type": "display_data"
    }
   ],
   "source": [
    "plt.scatter(x=ytest,y=lr_pred)"
   ]
  },
  {
   "cell_type": "code",
   "execution_count": null,
   "metadata": {
    "scrolled": false
   },
   "outputs": [],
   "source": [
    "# Check Distribution\n",
    "sns.displot((ytest-lr_pred),bins=100)"
   ]
  },
  {
   "cell_type": "markdown",
   "metadata": {},
   "source": [
    "# Decision Tree ##"
   ]
  },
  {
   "cell_type": "code",
   "execution_count": 33,
   "metadata": {},
   "outputs": [],
   "source": [
    "from sklearn.tree import DecisionTreeRegressor\n",
    "tree = DecisionTreeRegressor(random_state=0)\n",
    "tree.fit(xtrain,ytrain)\n",
    "dt_pred=tree.predict(xtest)"
   ]
  },
  {
   "cell_type": "code",
   "execution_count": 34,
   "metadata": {},
   "outputs": [
    {
     "data": {
      "text/plain": [
       "<matplotlib.collections.PathCollection at 0x2d699e8f940>"
      ]
     },
     "execution_count": 34,
     "metadata": {},
     "output_type": "execute_result"
    },
    {
     "data": {
      "image/png": "[encoded data removed]",
      "text/plain": [
       "<Figure size 432x288 with 1 Axes>"
      ]
     },
     "metadata": {},
     "output_type": "display_data"
    }
   ],
   "source": [
    "plt.scatter(x=ytest,y=dt_pred)"
   ]
  },
  {
   "cell_type": "code",
   "execution_count": null,
   "metadata": {},
   "outputs": [],
   "source": []
  },
  {
   "cell_type": "markdown",
   "metadata": {},
   "source": [
    "# Random Forest"
   ]
  },
  {
   "cell_type": "code",
   "execution_count": 35,
   "metadata": {},
   "outputs": [],
   "source": [
    "from sklearn.ensemble import RandomForestRegressor"
   ]
  },
  {
   "cell_type": "code",
   "execution_count": 36,
   "metadata": {},
   "outputs": [
    {
     "data": {
      "text/plain": [
       "0.9058891633455008"
      ]
     },
     "execution_count": 36,
     "metadata": {},
     "output_type": "execute_result"
    }
   ],
   "source": [
    "forest = RandomForestRegressor(n_estimators=100)\n",
    "forest.fit(xtrain, ytrain)\n",
    "rf_pred = forest.predict(xtest)\n",
    "\n",
    "forest.score(xtest, ytest)"
   ]
  },
  {
   "cell_type": "code",
   "execution_count": 37,
   "metadata": {},
   "outputs": [
    {
     "name": "stdout",
     "output_type": "stream",
     "text": [
      "MAE: 0.0876063554678939\n",
      "MSE: 0.0155852750997151\n",
      "RMSE: 0.12484099927393684\n"
     ]
    }
   ],
   "source": [
    "print('MAE:', metrics.mean_absolute_error(ytest, rf_pred))\n",
    "print('MSE:', metrics.mean_squared_error(ytest, rf_pred))\n",
    "print('RMSE:', np.sqrt(metrics.mean_squared_error(ytest, rf_pred)))"
   ]
  },
  {
   "cell_type": "code",
   "execution_count": 38,
   "metadata": {
    "scrolled": true
   },
   "outputs": [
    {
     "data": {
      "text/plain": [
       "<seaborn.axisgrid.FacetGrid at 0x2d69a970f10>"
      ]
     },
     "execution_count": 38,
     "metadata": {},
     "output_type": "execute_result"
    },
    {
     "data": {
      "image/png": "[encoded data removed]",
      "text/plain": [
       "<Figure size 360x360 with 1 Axes>"
      ]
     },
     "metadata": {},
     "output_type": "display_data"
    }
   ],
   "source": [
    "# Check distribution\n",
    "sns.displot((ytest-rf_pred),bins=100)"
   ]
  },
  {
   "cell_type": "code",
   "execution_count": 39,
   "metadata": {},
   "outputs": [
    {
     "data": {
      "text/html": [
       "<div>\n",
       "<style scoped>\n",
       "    .dataframe tbody tr th:only-of-type {\n",
       "        vertical-align: middle;\n",
       "    }\n",
       "\n",
       "    .dataframe tbody tr th {\n",
       "        vertical-align: top;\n",
       "    }\n",
       "\n",
       "    .dataframe thead th {\n",
       "        text-align: right;\n",
       "    }\n",
       "</style>\n",
       "<table border=\"1\" class=\"dataframe\">\n",
       "  <thead>\n",
       "    <tr style=\"text-align: right;\">\n",
       "      <th></th>\n",
       "      <th>Column1</th>\n",
       "      <th>Date</th>\n",
       "      <th>AveragePrice</th>\n",
       "      <th>Total Volume</th>\n",
       "      <th>Small Avocados</th>\n",
       "      <th>Medium Avocados</th>\n",
       "      <th>Large Avocados</th>\n",
       "      <th>Total Bags</th>\n",
       "      <th>Small Bags</th>\n",
       "      <th>Large Bags</th>\n",
       "      <th>XLarge Bags</th>\n",
       "      <th>type</th>\n",
       "      <th>year</th>\n",
       "      <th>region</th>\n",
       "    </tr>\n",
       "  </thead>\n",
       "  <tbody>\n",
       "    <tr>\n",
       "      <th>0</th>\n",
       "      <td>51</td>\n",
       "      <td>1</td>\n",
       "      <td>1.22</td>\n",
       "      <td>40873.28</td>\n",
       "      <td>2819.50</td>\n",
       "      <td>28287.42</td>\n",
       "      <td>49.90</td>\n",
       "      <td>9716.46</td>\n",
       "      <td>9186.93</td>\n",
       "      <td>529.53</td>\n",
       "      <td>0.00</td>\n",
       "      <td>1</td>\n",
       "      <td>2015</td>\n",
       "      <td>1</td>\n",
       "    </tr>\n",
       "    <tr>\n",
       "      <th>1</th>\n",
       "      <td>51</td>\n",
       "      <td>1</td>\n",
       "      <td>1.00</td>\n",
       "      <td>435021.49</td>\n",
       "      <td>364302.39</td>\n",
       "      <td>23821.16</td>\n",
       "      <td>82.15</td>\n",
       "      <td>46815.79</td>\n",
       "      <td>16707.15</td>\n",
       "      <td>30108.64</td>\n",
       "      <td>0.00</td>\n",
       "      <td>1</td>\n",
       "      <td>2015</td>\n",
       "      <td>2</td>\n",
       "    </tr>\n",
       "    <tr>\n",
       "      <th>2</th>\n",
       "      <td>51</td>\n",
       "      <td>1</td>\n",
       "      <td>1.08</td>\n",
       "      <td>788025.06</td>\n",
       "      <td>53987.31</td>\n",
       "      <td>552906.04</td>\n",
       "      <td>39995.03</td>\n",
       "      <td>141136.68</td>\n",
       "      <td>137146.07</td>\n",
       "      <td>3990.61</td>\n",
       "      <td>0.00</td>\n",
       "      <td>1</td>\n",
       "      <td>2015</td>\n",
       "      <td>3</td>\n",
       "    </tr>\n",
       "    <tr>\n",
       "      <th>3</th>\n",
       "      <td>51</td>\n",
       "      <td>1</td>\n",
       "      <td>1.01</td>\n",
       "      <td>80034.32</td>\n",
       "      <td>44562.12</td>\n",
       "      <td>24964.23</td>\n",
       "      <td>2752.35</td>\n",
       "      <td>7755.62</td>\n",
       "      <td>6064.30</td>\n",
       "      <td>1691.32</td>\n",
       "      <td>0.00</td>\n",
       "      <td>1</td>\n",
       "      <td>2015</td>\n",
       "      <td>4</td>\n",
       "    </tr>\n",
       "    <tr>\n",
       "      <th>4</th>\n",
       "      <td>51</td>\n",
       "      <td>1</td>\n",
       "      <td>1.02</td>\n",
       "      <td>491738.00</td>\n",
       "      <td>7193.87</td>\n",
       "      <td>396752.18</td>\n",
       "      <td>128.82</td>\n",
       "      <td>87663.13</td>\n",
       "      <td>87406.84</td>\n",
       "      <td>256.29</td>\n",
       "      <td>0.00</td>\n",
       "      <td>1</td>\n",
       "      <td>2015</td>\n",
       "      <td>5</td>\n",
       "    </tr>\n",
       "    <tr>\n",
       "      <th>...</th>\n",
       "      <td>...</td>\n",
       "      <td>...</td>\n",
       "      <td>...</td>\n",
       "      <td>...</td>\n",
       "      <td>...</td>\n",
       "      <td>...</td>\n",
       "      <td>...</td>\n",
       "      <td>...</td>\n",
       "      <td>...</td>\n",
       "      <td>...</td>\n",
       "      <td>...</td>\n",
       "      <td>...</td>\n",
       "      <td>...</td>\n",
       "      <td>...</td>\n",
       "    </tr>\n",
       "    <tr>\n",
       "      <th>18244</th>\n",
       "      <td>0</td>\n",
       "      <td>169</td>\n",
       "      <td>1.04</td>\n",
       "      <td>14503.47</td>\n",
       "      <td>78.95</td>\n",
       "      <td>148.37</td>\n",
       "      <td>0.00</td>\n",
       "      <td>14276.15</td>\n",
       "      <td>9992.31</td>\n",
       "      <td>4283.84</td>\n",
       "      <td>0.00</td>\n",
       "      <td>2</td>\n",
       "      <td>2018</td>\n",
       "      <td>50</td>\n",
       "    </tr>\n",
       "    <tr>\n",
       "      <th>18245</th>\n",
       "      <td>0</td>\n",
       "      <td>169</td>\n",
       "      <td>1.41</td>\n",
       "      <td>10028.49</td>\n",
       "      <td>138.15</td>\n",
       "      <td>773.22</td>\n",
       "      <td>0.00</td>\n",
       "      <td>9117.12</td>\n",
       "      <td>8208.82</td>\n",
       "      <td>908.30</td>\n",
       "      <td>0.00</td>\n",
       "      <td>2</td>\n",
       "      <td>2018</td>\n",
       "      <td>51</td>\n",
       "    </tr>\n",
       "    <tr>\n",
       "      <th>18246</th>\n",
       "      <td>0</td>\n",
       "      <td>169</td>\n",
       "      <td>1.55</td>\n",
       "      <td>1559967.20</td>\n",
       "      <td>121007.94</td>\n",
       "      <td>342853.10</td>\n",
       "      <td>1070.24</td>\n",
       "      <td>1093861.09</td>\n",
       "      <td>902774.79</td>\n",
       "      <td>190941.84</td>\n",
       "      <td>144.46</td>\n",
       "      <td>2</td>\n",
       "      <td>2018</td>\n",
       "      <td>52</td>\n",
       "    </tr>\n",
       "    <tr>\n",
       "      <th>18247</th>\n",
       "      <td>0</td>\n",
       "      <td>169</td>\n",
       "      <td>1.60</td>\n",
       "      <td>271723.08</td>\n",
       "      <td>26996.28</td>\n",
       "      <td>77861.39</td>\n",
       "      <td>117.56</td>\n",
       "      <td>166747.85</td>\n",
       "      <td>87108.00</td>\n",
       "      <td>79495.39</td>\n",
       "      <td>144.46</td>\n",
       "      <td>2</td>\n",
       "      <td>2018</td>\n",
       "      <td>53</td>\n",
       "    </tr>\n",
       "    <tr>\n",
       "      <th>18248</th>\n",
       "      <td>0</td>\n",
       "      <td>169</td>\n",
       "      <td>1.62</td>\n",
       "      <td>15303.40</td>\n",
       "      <td>2325.30</td>\n",
       "      <td>2171.66</td>\n",
       "      <td>0.00</td>\n",
       "      <td>10806.44</td>\n",
       "      <td>10569.80</td>\n",
       "      <td>236.64</td>\n",
       "      <td>0.00</td>\n",
       "      <td>2</td>\n",
       "      <td>2018</td>\n",
       "      <td>54</td>\n",
       "    </tr>\n",
       "  </tbody>\n",
       "</table>\n",
       "<p>18249 rows × 14 columns</p>\n",
       "</div>"
      ],
      "text/plain": [
       "       Column1  Date  AveragePrice  Total Volume  Small Avocados  \\\n",
       "0           51     1          1.22      40873.28         2819.50   \n",
       "1           51     1          1.00     435021.49       364302.39   \n",
       "2           51     1          1.08     788025.06        53987.31   \n",
       "3           51     1          1.01      80034.32        44562.12   \n",
       "4           51     1          1.02     491738.00         7193.87   \n",
       "...        ...   ...           ...           ...             ...   \n",
       "18244        0   169          1.04      14503.47           78.95   \n",
       "18245        0   169          1.41      10028.49          138.15   \n",
       "18246        0   169          1.55    1559967.20       121007.94   \n",
       "18247        0   169          1.60     271723.08        26996.28   \n",
       "18248        0   169          1.62      15303.40         2325.30   \n",
       "\n",
       "       Medium Avocados  Large Avocados  Total Bags  Small Bags  Large Bags  \\\n",
       "0             28287.42           49.90     9716.46     9186.93      529.53   \n",
       "1             23821.16           82.15    46815.79    16707.15    30108.64   \n",
       "2            552906.04        39995.03   141136.68   137146.07     3990.61   \n",
       "3             24964.23         2752.35     7755.62     6064.30     1691.32   \n",
       "4            396752.18          128.82    87663.13    87406.84      256.29   \n",
       "...                ...             ...         ...         ...         ...   \n",
       "18244           148.37            0.00    14276.15     9992.31     4283.84   \n",
       "18245           773.22            0.00     9117.12     8208.82      908.30   \n",
       "18246        342853.10         1070.24  1093861.09   902774.79   190941.84   \n",
       "18247         77861.39          117.56   166747.85    87108.00    79495.39   \n",
       "18248          2171.66            0.00    10806.44    10569.80      236.64   \n",
       "\n",
       "       XLarge Bags  type  year  region  \n",
       "0             0.00     1  2015       1  \n",
       "1             0.00     1  2015       2  \n",
       "2             0.00     1  2015       3  \n",
       "3             0.00     1  2015       4  \n",
       "4             0.00     1  2015       5  \n",
       "...            ...   ...   ...     ...  \n",
       "18244         0.00     2  2018      50  \n",
       "18245         0.00     2  2018      51  \n",
       "18246       144.46     2  2018      52  \n",
       "18247       144.46     2  2018      53  \n",
       "18248         0.00     2  2018      54  \n",
       "\n",
       "[18249 rows x 14 columns]"
      ]
     },
     "execution_count": 39,
     "metadata": {},
     "output_type": "execute_result"
    }
   ],
   "source": [
    "data"
   ]
  },
  {
   "cell_type": "markdown",
   "metadata": {},
   "source": [
    "# Facebook Prophet TimeSeries"
   ]
  },
  {
   "cell_type": "code",
   "execution_count": 40,
   "metadata": {},
   "outputs": [],
   "source": [
    "from fbprophet.diagnostics import cross_validation, performance_metrics"
   ]
  },
  {
   "cell_type": "code",
   "execution_count": 41,
   "metadata": {},
   "outputs": [],
   "source": [
    "from sklearn.metrics import r2_score"
   ]
  },
  {
   "cell_type": "markdown",
   "metadata": {},
   "source": [
    "## Volume Predictions"
   ]
  },
  {
   "cell_type": "code",
   "execution_count": 45,
   "metadata": {},
   "outputs": [],
   "source": [
    "volume_data = data_sep.groupby(['Date']).sum().reset_index()"
   ]
  },
  {
   "cell_type": "code",
   "execution_count": 46,
   "metadata": {},
   "outputs": [
    {
     "data": {
      "text/html": [
       "<div>\n",
       "<style scoped>\n",
       "    .dataframe tbody tr th:only-of-type {\n",
       "        vertical-align: middle;\n",
       "    }\n",
       "\n",
       "    .dataframe tbody tr th {\n",
       "        vertical-align: top;\n",
       "    }\n",
       "\n",
       "    .dataframe thead th {\n",
       "        text-align: right;\n",
       "    }\n",
       "</style>\n",
       "<table border=\"1\" class=\"dataframe\">\n",
       "  <thead>\n",
       "    <tr style=\"text-align: right;\">\n",
       "      <th></th>\n",
       "      <th>ds</th>\n",
       "      <th>y</th>\n",
       "    </tr>\n",
       "  </thead>\n",
       "  <tbody>\n",
       "    <tr>\n",
       "      <th>0</th>\n",
       "      <td>2015-01-04</td>\n",
       "      <td>8.467434e+07</td>\n",
       "    </tr>\n",
       "    <tr>\n",
       "      <th>1</th>\n",
       "      <td>2015-01-11</td>\n",
       "      <td>7.855581e+07</td>\n",
       "    </tr>\n",
       "    <tr>\n",
       "      <th>2</th>\n",
       "      <td>2015-01-18</td>\n",
       "      <td>7.838878e+07</td>\n",
       "    </tr>\n",
       "    <tr>\n",
       "      <th>3</th>\n",
       "      <td>2015-01-25</td>\n",
       "      <td>7.646628e+07</td>\n",
       "    </tr>\n",
       "    <tr>\n",
       "      <th>4</th>\n",
       "      <td>2015-02-01</td>\n",
       "      <td>1.194532e+08</td>\n",
       "    </tr>\n",
       "    <tr>\n",
       "      <th>...</th>\n",
       "      <td>...</td>\n",
       "      <td>...</td>\n",
       "    </tr>\n",
       "    <tr>\n",
       "      <th>164</th>\n",
       "      <td>2018-02-25</td>\n",
       "      <td>1.092314e+08</td>\n",
       "    </tr>\n",
       "    <tr>\n",
       "      <th>165</th>\n",
       "      <td>2018-03-04</td>\n",
       "      <td>1.118449e+08</td>\n",
       "    </tr>\n",
       "    <tr>\n",
       "      <th>166</th>\n",
       "      <td>2018-03-11</td>\n",
       "      <td>1.114652e+08</td>\n",
       "    </tr>\n",
       "    <tr>\n",
       "      <th>167</th>\n",
       "      <td>2018-03-18</td>\n",
       "      <td>1.136740e+08</td>\n",
       "    </tr>\n",
       "    <tr>\n",
       "      <th>168</th>\n",
       "      <td>2018-03-25</td>\n",
       "      <td>1.182690e+08</td>\n",
       "    </tr>\n",
       "  </tbody>\n",
       "</table>\n",
       "<p>169 rows × 2 columns</p>\n",
       "</div>"
      ],
      "text/plain": [
       "             ds             y\n",
       "0    2015-01-04  8.467434e+07\n",
       "1    2015-01-11  7.855581e+07\n",
       "2    2015-01-18  7.838878e+07\n",
       "3    2015-01-25  7.646628e+07\n",
       "4    2015-02-01  1.194532e+08\n",
       "..          ...           ...\n",
       "164  2018-02-25  1.092314e+08\n",
       "165  2018-03-04  1.118449e+08\n",
       "166  2018-03-11  1.114652e+08\n",
       "167  2018-03-18  1.136740e+08\n",
       "168  2018-03-25  1.182690e+08\n",
       "\n",
       "[169 rows x 2 columns]"
      ]
     },
     "execution_count": 46,
     "metadata": {},
     "output_type": "execute_result"
    }
   ],
   "source": [
    "volume_df = volume_data[['Date','Total Volume']]\n",
    "volume_df = volume_df.rename(columns={'Date':'ds','Total Volume':'y'})\n",
    "volume_df"
   ]
  },
  {
   "cell_type": "code",
   "execution_count": 47,
   "metadata": {},
   "outputs": [],
   "source": [
    "superbowl_cinco = pd.DataFrame({\n",
    "  'holiday': 'superbowl_cinco',\n",
    "  'ds': pd.to_datetime(\n",
    "    ['2015-05-05', '2016-05-05', '2017-05-05', '2018-05-05', '2019-05-05','2020-05-05', '2015-02-01', '2016-02-07', '2017-02-05', '2018-02-04', '2019-02-03', '2020-02-02']\n",
    "  ),\n",
    "  'lower_window': 0,\n",
    "  'upper_window': 0,\n",
    "})"
   ]
  },
  {
   "cell_type": "code",
   "execution_count": 48,
   "metadata": {},
   "outputs": [],
   "source": [
    "model1 = Prophet(holidays=superbowl_cinco)"
   ]
  },
  {
   "cell_type": "code",
   "execution_count": 49,
   "metadata": {},
   "outputs": [
    {
     "name": "stderr",
     "output_type": "stream",
     "text": [
      "INFO:fbprophet:Disabling weekly seasonality. Run prophet with weekly_seasonality=True to override this.\n",
      "INFO:fbprophet:Disabling daily seasonality. Run prophet with daily_seasonality=True to override this.\n"
     ]
    },
    {
     "data": {
      "text/plain": [
       "<fbprophet.forecaster.Prophet at 0x2d69a976df0>"
      ]
     },
     "execution_count": 49,
     "metadata": {},
     "output_type": "execute_result"
    }
   ],
   "source": [
    "model1.fit(volume_df)"
   ]
  },
  {
   "cell_type": "code",
   "execution_count": 50,
   "metadata": {},
   "outputs": [],
   "source": [
    "future = model1.make_future_dataframe(periods=730)\n",
    "forecast_1 = model1.predict(future)"
   ]
  },
  {
   "cell_type": "code",
   "execution_count": 51,
   "metadata": {},
   "outputs": [
    {
     "data": {
      "text/html": [
       "<div>\n",
       "<style scoped>\n",
       "    .dataframe tbody tr th:only-of-type {\n",
       "        vertical-align: middle;\n",
       "    }\n",
       "\n",
       "    .dataframe tbody tr th {\n",
       "        vertical-align: top;\n",
       "    }\n",
       "\n",
       "    .dataframe thead th {\n",
       "        text-align: right;\n",
       "    }\n",
       "</style>\n",
       "<table border=\"1\" class=\"dataframe\">\n",
       "  <thead>\n",
       "    <tr style=\"text-align: right;\">\n",
       "      <th></th>\n",
       "      <th>ds</th>\n",
       "      <th>trend</th>\n",
       "      <th>yhat_lower</th>\n",
       "      <th>yhat_upper</th>\n",
       "      <th>trend_lower</th>\n",
       "      <th>trend_upper</th>\n",
       "      <th>additive_terms</th>\n",
       "      <th>additive_terms_lower</th>\n",
       "      <th>additive_terms_upper</th>\n",
       "      <th>holidays</th>\n",
       "      <th>...</th>\n",
       "      <th>superbowl_cinco</th>\n",
       "      <th>superbowl_cinco_lower</th>\n",
       "      <th>superbowl_cinco_upper</th>\n",
       "      <th>yearly</th>\n",
       "      <th>yearly_lower</th>\n",
       "      <th>yearly_upper</th>\n",
       "      <th>multiplicative_terms</th>\n",
       "      <th>multiplicative_terms_lower</th>\n",
       "      <th>multiplicative_terms_upper</th>\n",
       "      <th>yhat</th>\n",
       "    </tr>\n",
       "  </thead>\n",
       "  <tbody>\n",
       "    <tr>\n",
       "      <th>0</th>\n",
       "      <td>2015-01-04</td>\n",
       "      <td>7.482924e+07</td>\n",
       "      <td>6.882218e+07</td>\n",
       "      <td>8.767824e+07</td>\n",
       "      <td>7.482924e+07</td>\n",
       "      <td>7.482924e+07</td>\n",
       "      <td>3.299963e+06</td>\n",
       "      <td>3.299963e+06</td>\n",
       "      <td>3.299963e+06</td>\n",
       "      <td>0.000000e+00</td>\n",
       "      <td>...</td>\n",
       "      <td>0.000000e+00</td>\n",
       "      <td>0.000000e+00</td>\n",
       "      <td>0.000000e+00</td>\n",
       "      <td>3.299963e+06</td>\n",
       "      <td>3.299963e+06</td>\n",
       "      <td>3.299963e+06</td>\n",
       "      <td>0.0</td>\n",
       "      <td>0.0</td>\n",
       "      <td>0.0</td>\n",
       "      <td>7.812921e+07</td>\n",
       "    </tr>\n",
       "    <tr>\n",
       "      <th>1</th>\n",
       "      <td>2015-01-11</td>\n",
       "      <td>7.516983e+07</td>\n",
       "      <td>7.470176e+07</td>\n",
       "      <td>9.296077e+07</td>\n",
       "      <td>7.516983e+07</td>\n",
       "      <td>7.516983e+07</td>\n",
       "      <td>8.299851e+06</td>\n",
       "      <td>8.299851e+06</td>\n",
       "      <td>8.299851e+06</td>\n",
       "      <td>0.000000e+00</td>\n",
       "      <td>...</td>\n",
       "      <td>0.000000e+00</td>\n",
       "      <td>0.000000e+00</td>\n",
       "      <td>0.000000e+00</td>\n",
       "      <td>8.299851e+06</td>\n",
       "      <td>8.299851e+06</td>\n",
       "      <td>8.299851e+06</td>\n",
       "      <td>0.0</td>\n",
       "      <td>0.0</td>\n",
       "      <td>0.0</td>\n",
       "      <td>8.346968e+07</td>\n",
       "    </tr>\n",
       "    <tr>\n",
       "      <th>2</th>\n",
       "      <td>2015-01-18</td>\n",
       "      <td>7.551041e+07</td>\n",
       "      <td>7.606032e+07</td>\n",
       "      <td>9.399879e+07</td>\n",
       "      <td>7.551041e+07</td>\n",
       "      <td>7.551041e+07</td>\n",
       "      <td>9.511500e+06</td>\n",
       "      <td>9.511500e+06</td>\n",
       "      <td>9.511500e+06</td>\n",
       "      <td>0.000000e+00</td>\n",
       "      <td>...</td>\n",
       "      <td>0.000000e+00</td>\n",
       "      <td>0.000000e+00</td>\n",
       "      <td>0.000000e+00</td>\n",
       "      <td>9.511500e+06</td>\n",
       "      <td>9.511500e+06</td>\n",
       "      <td>9.511500e+06</td>\n",
       "      <td>0.0</td>\n",
       "      <td>0.0</td>\n",
       "      <td>0.0</td>\n",
       "      <td>8.502191e+07</td>\n",
       "    </tr>\n",
       "    <tr>\n",
       "      <th>3</th>\n",
       "      <td>2015-01-25</td>\n",
       "      <td>7.585099e+07</td>\n",
       "      <td>7.477957e+07</td>\n",
       "      <td>9.435785e+07</td>\n",
       "      <td>7.585099e+07</td>\n",
       "      <td>7.585099e+07</td>\n",
       "      <td>8.572394e+06</td>\n",
       "      <td>8.572394e+06</td>\n",
       "      <td>8.572394e+06</td>\n",
       "      <td>0.000000e+00</td>\n",
       "      <td>...</td>\n",
       "      <td>0.000000e+00</td>\n",
       "      <td>0.000000e+00</td>\n",
       "      <td>0.000000e+00</td>\n",
       "      <td>8.572394e+06</td>\n",
       "      <td>8.572394e+06</td>\n",
       "      <td>8.572394e+06</td>\n",
       "      <td>0.0</td>\n",
       "      <td>0.0</td>\n",
       "      <td>0.0</td>\n",
       "      <td>8.442339e+07</td>\n",
       "    </tr>\n",
       "    <tr>\n",
       "      <th>4</th>\n",
       "      <td>2015-02-01</td>\n",
       "      <td>7.619157e+07</td>\n",
       "      <td>1.259922e+08</td>\n",
       "      <td>1.443151e+08</td>\n",
       "      <td>7.619157e+07</td>\n",
       "      <td>7.619157e+07</td>\n",
       "      <td>5.839390e+07</td>\n",
       "      <td>5.839390e+07</td>\n",
       "      <td>5.839390e+07</td>\n",
       "      <td>5.018483e+07</td>\n",
       "      <td>...</td>\n",
       "      <td>5.018483e+07</td>\n",
       "      <td>5.018483e+07</td>\n",
       "      <td>5.018483e+07</td>\n",
       "      <td>8.209077e+06</td>\n",
       "      <td>8.209077e+06</td>\n",
       "      <td>8.209077e+06</td>\n",
       "      <td>0.0</td>\n",
       "      <td>0.0</td>\n",
       "      <td>0.0</td>\n",
       "      <td>1.345855e+08</td>\n",
       "    </tr>\n",
       "    <tr>\n",
       "      <th>...</th>\n",
       "      <td>...</td>\n",
       "      <td>...</td>\n",
       "      <td>...</td>\n",
       "      <td>...</td>\n",
       "      <td>...</td>\n",
       "      <td>...</td>\n",
       "      <td>...</td>\n",
       "      <td>...</td>\n",
       "      <td>...</td>\n",
       "      <td>...</td>\n",
       "      <td>...</td>\n",
       "      <td>...</td>\n",
       "      <td>...</td>\n",
       "      <td>...</td>\n",
       "      <td>...</td>\n",
       "      <td>...</td>\n",
       "      <td>...</td>\n",
       "      <td>...</td>\n",
       "      <td>...</td>\n",
       "      <td>...</td>\n",
       "      <td>...</td>\n",
       "    </tr>\n",
       "    <tr>\n",
       "      <th>894</th>\n",
       "      <td>2020-03-20</td>\n",
       "      <td>1.284411e+08</td>\n",
       "      <td>1.220243e+08</td>\n",
       "      <td>1.476640e+08</td>\n",
       "      <td>1.190434e+08</td>\n",
       "      <td>1.377242e+08</td>\n",
       "      <td>6.852342e+06</td>\n",
       "      <td>6.852342e+06</td>\n",
       "      <td>6.852342e+06</td>\n",
       "      <td>0.000000e+00</td>\n",
       "      <td>...</td>\n",
       "      <td>0.000000e+00</td>\n",
       "      <td>0.000000e+00</td>\n",
       "      <td>0.000000e+00</td>\n",
       "      <td>6.852342e+06</td>\n",
       "      <td>6.852342e+06</td>\n",
       "      <td>6.852342e+06</td>\n",
       "      <td>0.0</td>\n",
       "      <td>0.0</td>\n",
       "      <td>0.0</td>\n",
       "      <td>1.352935e+08</td>\n",
       "    </tr>\n",
       "    <tr>\n",
       "      <th>895</th>\n",
       "      <td>2020-03-21</td>\n",
       "      <td>1.284784e+08</td>\n",
       "      <td>1.213019e+08</td>\n",
       "      <td>1.489008e+08</td>\n",
       "      <td>1.190683e+08</td>\n",
       "      <td>1.377842e+08</td>\n",
       "      <td>6.864414e+06</td>\n",
       "      <td>6.864414e+06</td>\n",
       "      <td>6.864414e+06</td>\n",
       "      <td>0.000000e+00</td>\n",
       "      <td>...</td>\n",
       "      <td>0.000000e+00</td>\n",
       "      <td>0.000000e+00</td>\n",
       "      <td>0.000000e+00</td>\n",
       "      <td>6.864414e+06</td>\n",
       "      <td>6.864414e+06</td>\n",
       "      <td>6.864414e+06</td>\n",
       "      <td>0.0</td>\n",
       "      <td>0.0</td>\n",
       "      <td>0.0</td>\n",
       "      <td>1.353428e+08</td>\n",
       "    </tr>\n",
       "    <tr>\n",
       "      <th>896</th>\n",
       "      <td>2020-03-22</td>\n",
       "      <td>1.285156e+08</td>\n",
       "      <td>1.220162e+08</td>\n",
       "      <td>1.497662e+08</td>\n",
       "      <td>1.190932e+08</td>\n",
       "      <td>1.378424e+08</td>\n",
       "      <td>6.816915e+06</td>\n",
       "      <td>6.816915e+06</td>\n",
       "      <td>6.816915e+06</td>\n",
       "      <td>0.000000e+00</td>\n",
       "      <td>...</td>\n",
       "      <td>0.000000e+00</td>\n",
       "      <td>0.000000e+00</td>\n",
       "      <td>0.000000e+00</td>\n",
       "      <td>6.816915e+06</td>\n",
       "      <td>6.816915e+06</td>\n",
       "      <td>6.816915e+06</td>\n",
       "      <td>0.0</td>\n",
       "      <td>0.0</td>\n",
       "      <td>0.0</td>\n",
       "      <td>1.353325e+08</td>\n",
       "    </tr>\n",
       "    <tr>\n",
       "      <th>897</th>\n",
       "      <td>2020-03-23</td>\n",
       "      <td>1.285529e+08</td>\n",
       "      <td>1.220415e+08</td>\n",
       "      <td>1.499603e+08</td>\n",
       "      <td>1.190974e+08</td>\n",
       "      <td>1.379010e+08</td>\n",
       "      <td>6.708539e+06</td>\n",
       "      <td>6.708539e+06</td>\n",
       "      <td>6.708539e+06</td>\n",
       "      <td>0.000000e+00</td>\n",
       "      <td>...</td>\n",
       "      <td>0.000000e+00</td>\n",
       "      <td>0.000000e+00</td>\n",
       "      <td>0.000000e+00</td>\n",
       "      <td>6.708539e+06</td>\n",
       "      <td>6.708539e+06</td>\n",
       "      <td>6.708539e+06</td>\n",
       "      <td>0.0</td>\n",
       "      <td>0.0</td>\n",
       "      <td>0.0</td>\n",
       "      <td>1.352614e+08</td>\n",
       "    </tr>\n",
       "    <tr>\n",
       "      <th>898</th>\n",
       "      <td>2020-03-24</td>\n",
       "      <td>1.285901e+08</td>\n",
       "      <td>1.211343e+08</td>\n",
       "      <td>1.481285e+08</td>\n",
       "      <td>1.191015e+08</td>\n",
       "      <td>1.379602e+08</td>\n",
       "      <td>6.539956e+06</td>\n",
       "      <td>6.539956e+06</td>\n",
       "      <td>6.539956e+06</td>\n",
       "      <td>0.000000e+00</td>\n",
       "      <td>...</td>\n",
       "      <td>0.000000e+00</td>\n",
       "      <td>0.000000e+00</td>\n",
       "      <td>0.000000e+00</td>\n",
       "      <td>6.539956e+06</td>\n",
       "      <td>6.539956e+06</td>\n",
       "      <td>6.539956e+06</td>\n",
       "      <td>0.0</td>\n",
       "      <td>0.0</td>\n",
       "      <td>0.0</td>\n",
       "      <td>1.351301e+08</td>\n",
       "    </tr>\n",
       "  </tbody>\n",
       "</table>\n",
       "<p>899 rows × 22 columns</p>\n",
       "</div>"
      ],
      "text/plain": [
       "            ds         trend    yhat_lower    yhat_upper   trend_lower  \\\n",
       "0   2015-01-04  7.482924e+07  6.882218e+07  8.767824e+07  7.482924e+07   \n",
       "1   2015-01-11  7.516983e+07  7.470176e+07  9.296077e+07  7.516983e+07   \n",
       "2   2015-01-18  7.551041e+07  7.606032e+07  9.399879e+07  7.551041e+07   \n",
       "3   2015-01-25  7.585099e+07  7.477957e+07  9.435785e+07  7.585099e+07   \n",
       "4   2015-02-01  7.619157e+07  1.259922e+08  1.443151e+08  7.619157e+07   \n",
       "..         ...           ...           ...           ...           ...   \n",
       "894 2020-03-20  1.284411e+08  1.220243e+08  1.476640e+08  1.190434e+08   \n",
       "895 2020-03-21  1.284784e+08  1.213019e+08  1.489008e+08  1.190683e+08   \n",
       "896 2020-03-22  1.285156e+08  1.220162e+08  1.497662e+08  1.190932e+08   \n",
       "897 2020-03-23  1.285529e+08  1.220415e+08  1.499603e+08  1.190974e+08   \n",
       "898 2020-03-24  1.285901e+08  1.211343e+08  1.481285e+08  1.191015e+08   \n",
       "\n",
       "      trend_upper  additive_terms  additive_terms_lower  additive_terms_upper  \\\n",
       "0    7.482924e+07    3.299963e+06          3.299963e+06          3.299963e+06   \n",
       "1    7.516983e+07    8.299851e+06          8.299851e+06          8.299851e+06   \n",
       "2    7.551041e+07    9.511500e+06          9.511500e+06          9.511500e+06   \n",
       "3    7.585099e+07    8.572394e+06          8.572394e+06          8.572394e+06   \n",
       "4    7.619157e+07    5.839390e+07          5.839390e+07          5.839390e+07   \n",
       "..            ...             ...                   ...                   ...   \n",
       "894  1.377242e+08    6.852342e+06          6.852342e+06          6.852342e+06   \n",
       "895  1.377842e+08    6.864414e+06          6.864414e+06          6.864414e+06   \n",
       "896  1.378424e+08    6.816915e+06          6.816915e+06          6.816915e+06   \n",
       "897  1.379010e+08    6.708539e+06          6.708539e+06          6.708539e+06   \n",
       "898  1.379602e+08    6.539956e+06          6.539956e+06          6.539956e+06   \n",
       "\n",
       "         holidays  ...  superbowl_cinco  superbowl_cinco_lower  \\\n",
       "0    0.000000e+00  ...     0.000000e+00           0.000000e+00   \n",
       "1    0.000000e+00  ...     0.000000e+00           0.000000e+00   \n",
       "2    0.000000e+00  ...     0.000000e+00           0.000000e+00   \n",
       "3    0.000000e+00  ...     0.000000e+00           0.000000e+00   \n",
       "4    5.018483e+07  ...     5.018483e+07           5.018483e+07   \n",
       "..            ...  ...              ...                    ...   \n",
       "894  0.000000e+00  ...     0.000000e+00           0.000000e+00   \n",
       "895  0.000000e+00  ...     0.000000e+00           0.000000e+00   \n",
       "896  0.000000e+00  ...     0.000000e+00           0.000000e+00   \n",
       "897  0.000000e+00  ...     0.000000e+00           0.000000e+00   \n",
       "898  0.000000e+00  ...     0.000000e+00           0.000000e+00   \n",
       "\n",
       "     superbowl_cinco_upper        yearly  yearly_lower  yearly_upper  \\\n",
       "0             0.000000e+00  3.299963e+06  3.299963e+06  3.299963e+06   \n",
       "1             0.000000e+00  8.299851e+06  8.299851e+06  8.299851e+06   \n",
       "2             0.000000e+00  9.511500e+06  9.511500e+06  9.511500e+06   \n",
       "3             0.000000e+00  8.572394e+06  8.572394e+06  8.572394e+06   \n",
       "4             5.018483e+07  8.209077e+06  8.209077e+06  8.209077e+06   \n",
       "..                     ...           ...           ...           ...   \n",
       "894           0.000000e+00  6.852342e+06  6.852342e+06  6.852342e+06   \n",
       "895           0.000000e+00  6.864414e+06  6.864414e+06  6.864414e+06   \n",
       "896           0.000000e+00  6.816915e+06  6.816915e+06  6.816915e+06   \n",
       "897           0.000000e+00  6.708539e+06  6.708539e+06  6.708539e+06   \n",
       "898           0.000000e+00  6.539956e+06  6.539956e+06  6.539956e+06   \n",
       "\n",
       "     multiplicative_terms  multiplicative_terms_lower  \\\n",
       "0                     0.0                         0.0   \n",
       "1                     0.0                         0.0   \n",
       "2                     0.0                         0.0   \n",
       "3                     0.0                         0.0   \n",
       "4                     0.0                         0.0   \n",
       "..                    ...                         ...   \n",
       "894                   0.0                         0.0   \n",
       "895                   0.0                         0.0   \n",
       "896                   0.0                         0.0   \n",
       "897                   0.0                         0.0   \n",
       "898                   0.0                         0.0   \n",
       "\n",
       "     multiplicative_terms_upper          yhat  \n",
       "0                           0.0  7.812921e+07  \n",
       "1                           0.0  8.346968e+07  \n",
       "2                           0.0  8.502191e+07  \n",
       "3                           0.0  8.442339e+07  \n",
       "4                           0.0  1.345855e+08  \n",
       "..                          ...           ...  \n",
       "894                         0.0  1.352935e+08  \n",
       "895                         0.0  1.353428e+08  \n",
       "896                         0.0  1.353325e+08  \n",
       "897                         0.0  1.352614e+08  \n",
       "898                         0.0  1.351301e+08  \n",
       "\n",
       "[899 rows x 22 columns]"
      ]
     },
     "execution_count": 51,
     "metadata": {},
     "output_type": "execute_result"
    }
   ],
   "source": [
    "forecast_1"
   ]
  },
  {
   "cell_type": "code",
   "execution_count": 56,
   "metadata": {},
   "outputs": [
    {
     "data": {
      "image/png": "[encoded data removed]",
      "text/plain": [
       "<Figure size 720x432 with 1 Axes>"
      ]
     },
     "metadata": {},
     "output_type": "display_data"
    }
   ],
   "source": [
    "volume_df = model1.plot(forecast_1, xlabel='Date', ylabel='Total Volume (Hundreds of Millions)')\n",
    "volume_df.savefig('../img/prophet_volume.jpg', bbox_inches='tight')"
   ]
  },
  {
   "cell_type": "code",
   "execution_count": 57,
   "metadata": {
    "scrolled": false
   },
   "outputs": [
    {
     "data": {
      "image/png": "[encoded data removed]",
      "text/plain": [
       "<Figure size 648x648 with 3 Axes>"
      ]
     },
     "metadata": {},
     "output_type": "display_data"
    }
   ],
   "source": [
    "prophet_volume2 = model1.plot_components(forecast_1)\n",
    "prophet_volume2.savefig('../img/prophet_volume2.jpg', bbox_inches='tight')"
   ]
  },
  {
   "cell_type": "code",
   "execution_count": null,
   "metadata": {},
   "outputs": [],
   "source": []
  }
 ],
 "metadata": {
  "kernelspec": {
   "display_name": "Python 3",
   "language": "python",
   "name": "python3"
  },
  "language_info": {
   "codemirror_mode": {
    "name": "ipython",
    "version": 3
   },
   "file_extension": ".py",
   "mimetype": "text/x-python",
   "name": "python",
   "nbconvert_exporter": "python",
   "pygments_lexer": "ipython3",
   "version": "3.8.5"
  }
 },
 "nbformat": 4,
 "nbformat_minor": 4
}
